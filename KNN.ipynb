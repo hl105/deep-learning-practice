{
  "nbformat": 4,
  "nbformat_minor": 0,
  "metadata": {
    "colab": {
      "provenance": [],
      "authorship_tag": "ABX9TyO5AMhnVvSDFHm97dhwwXHV",
      "include_colab_link": true
    },
    "kernelspec": {
      "name": "python3",
      "display_name": "Python 3"
    },
    "language_info": {
      "name": "python"
    }
  },
  "cells": [
    {
      "cell_type": "markdown",
      "metadata": {
        "id": "view-in-github",
        "colab_type": "text"
      },
      "source": [
        "<a href=\"https://colab.research.google.com/github/hl105/deep-learning-practice/blob/main/KNN.ipynb\" target=\"_parent\"><img src=\"https://colab.research.google.com/assets/colab-badge.svg\" alt=\"Open In Colab\"/></a>"
      ]
    },
    {
      "cell_type": "markdown",
      "source": [
        "**K Nearest Neighbors (KNN)**\n",
        "- Supervised, simple ML algorithm\n",
        "- Classifies a data point based on how its neighbors are classified\n",
        "\n",
        "K: parameter that refers to the number of nearest neighbors to include in the majority voting process"
      ],
      "metadata": {
        "id": "0gmYuAaY2TvA"
      }
    },
    {
      "cell_type": "code",
      "execution_count": 177,
      "metadata": {
        "id": "F3hK_92c2Bxl"
      },
      "outputs": [],
      "source": [
        "import pandas as pd\n",
        "import numpy as np\n",
        "from sklearn.model_selection import train_test_split\n",
        "from sklearn.datasets import load_iris\n",
        "\n",
        "from sklearn.preprocessing import StandardScaler\n",
        "from sklearn.neighbors import KNeighborsClassifier\n",
        "from sklearn.metrics import confusion_matrix\n",
        "from sklearn.metrics import accuracy_score"
      ]
    },
    {
      "cell_type": "code",
      "source": [
        "df = load_iris(as_frame = True).frame\n",
        "df.head()"
      ],
      "metadata": {
        "colab": {
          "base_uri": "https://localhost:8080/",
          "height": 206
        },
        "id": "oa5BeXgl3Q9R",
        "outputId": "8331eb14-adc3-4340-e65a-b503d0e8d0ff"
      },
      "execution_count": 178,
      "outputs": [
        {
          "output_type": "execute_result",
          "data": {
            "text/plain": [
              "   sepal length (cm)  sepal width (cm)  petal length (cm)  petal width (cm)  \\\n",
              "0                5.1               3.5                1.4               0.2   \n",
              "1                4.9               3.0                1.4               0.2   \n",
              "2                4.7               3.2                1.3               0.2   \n",
              "3                4.6               3.1                1.5               0.2   \n",
              "4                5.0               3.6                1.4               0.2   \n",
              "\n",
              "   target  \n",
              "0       0  \n",
              "1       0  \n",
              "2       0  \n",
              "3       0  \n",
              "4       0  "
            ],
            "text/html": [
              "\n",
              "  <div id=\"df-79a317ef-e707-41fd-a984-4a55426d0ab3\">\n",
              "    <div class=\"colab-df-container\">\n",
              "      <div>\n",
              "<style scoped>\n",
              "    .dataframe tbody tr th:only-of-type {\n",
              "        vertical-align: middle;\n",
              "    }\n",
              "\n",
              "    .dataframe tbody tr th {\n",
              "        vertical-align: top;\n",
              "    }\n",
              "\n",
              "    .dataframe thead th {\n",
              "        text-align: right;\n",
              "    }\n",
              "</style>\n",
              "<table border=\"1\" class=\"dataframe\">\n",
              "  <thead>\n",
              "    <tr style=\"text-align: right;\">\n",
              "      <th></th>\n",
              "      <th>sepal length (cm)</th>\n",
              "      <th>sepal width (cm)</th>\n",
              "      <th>petal length (cm)</th>\n",
              "      <th>petal width (cm)</th>\n",
              "      <th>target</th>\n",
              "    </tr>\n",
              "  </thead>\n",
              "  <tbody>\n",
              "    <tr>\n",
              "      <th>0</th>\n",
              "      <td>5.1</td>\n",
              "      <td>3.5</td>\n",
              "      <td>1.4</td>\n",
              "      <td>0.2</td>\n",
              "      <td>0</td>\n",
              "    </tr>\n",
              "    <tr>\n",
              "      <th>1</th>\n",
              "      <td>4.9</td>\n",
              "      <td>3.0</td>\n",
              "      <td>1.4</td>\n",
              "      <td>0.2</td>\n",
              "      <td>0</td>\n",
              "    </tr>\n",
              "    <tr>\n",
              "      <th>2</th>\n",
              "      <td>4.7</td>\n",
              "      <td>3.2</td>\n",
              "      <td>1.3</td>\n",
              "      <td>0.2</td>\n",
              "      <td>0</td>\n",
              "    </tr>\n",
              "    <tr>\n",
              "      <th>3</th>\n",
              "      <td>4.6</td>\n",
              "      <td>3.1</td>\n",
              "      <td>1.5</td>\n",
              "      <td>0.2</td>\n",
              "      <td>0</td>\n",
              "    </tr>\n",
              "    <tr>\n",
              "      <th>4</th>\n",
              "      <td>5.0</td>\n",
              "      <td>3.6</td>\n",
              "      <td>1.4</td>\n",
              "      <td>0.2</td>\n",
              "      <td>0</td>\n",
              "    </tr>\n",
              "  </tbody>\n",
              "</table>\n",
              "</div>\n",
              "      <button class=\"colab-df-convert\" onclick=\"convertToInteractive('df-79a317ef-e707-41fd-a984-4a55426d0ab3')\"\n",
              "              title=\"Convert this dataframe to an interactive table.\"\n",
              "              style=\"display:none;\">\n",
              "        \n",
              "  <svg xmlns=\"http://www.w3.org/2000/svg\" height=\"24px\"viewBox=\"0 0 24 24\"\n",
              "       width=\"24px\">\n",
              "    <path d=\"M0 0h24v24H0V0z\" fill=\"none\"/>\n",
              "    <path d=\"M18.56 5.44l.94 2.06.94-2.06 2.06-.94-2.06-.94-.94-2.06-.94 2.06-2.06.94zm-11 1L8.5 8.5l.94-2.06 2.06-.94-2.06-.94L8.5 2.5l-.94 2.06-2.06.94zm10 10l.94 2.06.94-2.06 2.06-.94-2.06-.94-.94-2.06-.94 2.06-2.06.94z\"/><path d=\"M17.41 7.96l-1.37-1.37c-.4-.4-.92-.59-1.43-.59-.52 0-1.04.2-1.43.59L10.3 9.45l-7.72 7.72c-.78.78-.78 2.05 0 2.83L4 21.41c.39.39.9.59 1.41.59.51 0 1.02-.2 1.41-.59l7.78-7.78 2.81-2.81c.8-.78.8-2.07 0-2.86zM5.41 20L4 18.59l7.72-7.72 1.47 1.35L5.41 20z\"/>\n",
              "  </svg>\n",
              "      </button>\n",
              "      \n",
              "  <style>\n",
              "    .colab-df-container {\n",
              "      display:flex;\n",
              "      flex-wrap:wrap;\n",
              "      gap: 12px;\n",
              "    }\n",
              "\n",
              "    .colab-df-convert {\n",
              "      background-color: #E8F0FE;\n",
              "      border: none;\n",
              "      border-radius: 50%;\n",
              "      cursor: pointer;\n",
              "      display: none;\n",
              "      fill: #1967D2;\n",
              "      height: 32px;\n",
              "      padding: 0 0 0 0;\n",
              "      width: 32px;\n",
              "    }\n",
              "\n",
              "    .colab-df-convert:hover {\n",
              "      background-color: #E2EBFA;\n",
              "      box-shadow: 0px 1px 2px rgba(60, 64, 67, 0.3), 0px 1px 3px 1px rgba(60, 64, 67, 0.15);\n",
              "      fill: #174EA6;\n",
              "    }\n",
              "\n",
              "    [theme=dark] .colab-df-convert {\n",
              "      background-color: #3B4455;\n",
              "      fill: #D2E3FC;\n",
              "    }\n",
              "\n",
              "    [theme=dark] .colab-df-convert:hover {\n",
              "      background-color: #434B5C;\n",
              "      box-shadow: 0px 1px 3px 1px rgba(0, 0, 0, 0.15);\n",
              "      filter: drop-shadow(0px 1px 2px rgba(0, 0, 0, 0.3));\n",
              "      fill: #FFFFFF;\n",
              "    }\n",
              "  </style>\n",
              "\n",
              "      <script>\n",
              "        const buttonEl =\n",
              "          document.querySelector('#df-79a317ef-e707-41fd-a984-4a55426d0ab3 button.colab-df-convert');\n",
              "        buttonEl.style.display =\n",
              "          google.colab.kernel.accessAllowed ? 'block' : 'none';\n",
              "\n",
              "        async function convertToInteractive(key) {\n",
              "          const element = document.querySelector('#df-79a317ef-e707-41fd-a984-4a55426d0ab3');\n",
              "          const dataTable =\n",
              "            await google.colab.kernel.invokeFunction('convertToInteractive',\n",
              "                                                     [key], {});\n",
              "          if (!dataTable) return;\n",
              "\n",
              "          const docLinkHtml = 'Like what you see? Visit the ' +\n",
              "            '<a target=\"_blank\" href=https://colab.research.google.com/notebooks/data_table.ipynb>data table notebook</a>'\n",
              "            + ' to learn more about interactive tables.';\n",
              "          element.innerHTML = '';\n",
              "          dataTable['output_type'] = 'display_data';\n",
              "          await google.colab.output.renderOutput(dataTable, element);\n",
              "          const docLink = document.createElement('div');\n",
              "          docLink.innerHTML = docLinkHtml;\n",
              "          element.appendChild(docLink);\n",
              "        }\n",
              "      </script>\n",
              "    </div>\n",
              "  </div>\n",
              "  "
            ]
          },
          "metadata": {},
          "execution_count": 178
        }
      ]
    },
    {
      "cell_type": "code",
      "source": [
        "# map the target to iris names\n",
        "df['target'] = df['target'].map({0:\"setosa\",1:\"versicolor\",2:\"virginica\"})\n",
        "df['target']"
      ],
      "metadata": {
        "colab": {
          "base_uri": "https://localhost:8080/"
        },
        "id": "mORNkX6c9mVO",
        "outputId": "1ff3d4aa-2d30-4407-88e0-0710153e8a73"
      },
      "execution_count": 179,
      "outputs": [
        {
          "output_type": "execute_result",
          "data": {
            "text/plain": [
              "0         setosa\n",
              "1         setosa\n",
              "2         setosa\n",
              "3         setosa\n",
              "4         setosa\n",
              "         ...    \n",
              "145    virginica\n",
              "146    virginica\n",
              "147    virginica\n",
              "148    virginica\n",
              "149    virginica\n",
              "Name: target, Length: 150, dtype: object"
            ]
          },
          "metadata": {},
          "execution_count": 179
        }
      ]
    },
    {
      "cell_type": "code",
      "source": [
        "# check for null values\n",
        "df.isnull().sum()"
      ],
      "metadata": {
        "colab": {
          "base_uri": "https://localhost:8080/"
        },
        "id": "q-zGilj1_gH2",
        "outputId": "9d5653eb-9056-4175-97ce-34e71ece78ac"
      },
      "execution_count": 180,
      "outputs": [
        {
          "output_type": "execute_result",
          "data": {
            "text/plain": [
              "sepal length (cm)    0\n",
              "sepal width (cm)     0\n",
              "petal length (cm)    0\n",
              "petal width (cm)     0\n",
              "target               0\n",
              "dtype: int64"
            ]
          },
          "metadata": {},
          "execution_count": 180
        }
      ]
    },
    {
      "cell_type": "code",
      "source": [
        "#split into training and test set\n",
        "\n",
        "'''\n",
        "first option:\n",
        "training_data = df.sample(frac = 0.8, random_state = 25)\n",
        "testing_data = df.drop(training_data.index)\n",
        "'''\n",
        "\n",
        "# using train_test_split\n",
        "X = df.drop('target',axis = 1) # upper case to denote multi-dimensional\n",
        "y = df['target']\n",
        "\n",
        "X_train, X_test, y_train, y_test = train_test_split(X,y, test_size = 0.2, random_state = 25)"
      ],
      "metadata": {
        "id": "vwEVkLVk_7IT"
      },
      "execution_count": 181,
      "outputs": []
    },
    {
      "cell_type": "markdown",
      "source": [
        "**Feature Scaling:**\n",
        "\n",
        "Scale features for any algorithm that computes distance or assumes normality!\n",
        "\n",
        "Normalization should be done AFTER splitting data becuase using info from test set is a potential bias.\n",
        "\n",
        "When normalizing test set, we should use the normalization parameters from the training set instead of recalculating them on the test set becasue it would be inconsistent with the model."
      ],
      "metadata": {
        "id": "j_qUNdNFA7L6"
      }
    },
    {
      "cell_type": "code",
      "source": [
        "scaler = StandardScaler()\n",
        "\n",
        "#the scaler object learns the mean & sd needed for scaling\n",
        "X_train = scaler.fit_transform(X_train)\n",
        "\n",
        "## we use same scaler object to transform X_test\n",
        "X_test = scaler.fit_transform(X_test)\n",
        "\n"
      ],
      "metadata": {
        "id": "EQlnelcm_f9w"
      },
      "execution_count": 182,
      "outputs": []
    },
    {
      "cell_type": "code",
      "source": [
        "# define model\n",
        "knn = KNeighborsClassifier(n_neighbors=7)"
      ],
      "metadata": {
        "id": "7WWMhFeogSsI"
      },
      "execution_count": 183,
      "outputs": []
    },
    {
      "cell_type": "code",
      "source": [
        "# train the model\n",
        "\n",
        "knn.fit(X_train, y_train)\n",
        "\n",
        "#predict\n",
        "y_pred = knn.predict(X_test)\n"
      ],
      "metadata": {
        "id": "vvypCbOtgrkT"
      },
      "execution_count": 184,
      "outputs": []
    },
    {
      "cell_type": "markdown",
      "source": [
        "**Confusion Matrix**\n",
        "\n",
        "example: target has 3 values 0,1,2. Then we have a 3*3 matrix\n",
        "\n",
        "> Diagonal: where the algorithm got correct results.\n"
      ],
      "metadata": {
        "id": "pEb7HNcEkBwb"
      }
    },
    {
      "cell_type": "code",
      "source": [
        "#Evaluate Model\n",
        "cm = confusion_matrix(y_test,y_pred)\n",
        "print(cm)"
      ],
      "metadata": {
        "colab": {
          "base_uri": "https://localhost:8080/"
        },
        "id": "1MZYQ0JCiaB9",
        "outputId": "5148c2e8-d93d-4150-f1ee-506f1e6f94fb"
      },
      "execution_count": 185,
      "outputs": [
        {
          "output_type": "stream",
          "name": "stdout",
          "text": [
            "[[ 9  0  0]\n",
            " [ 0 10  3]\n",
            " [ 0  1  7]]\n"
          ]
        }
      ]
    },
    {
      "cell_type": "code",
      "source": [
        "print(accuracy_score(y_test,y_pred))"
      ],
      "metadata": {
        "colab": {
          "base_uri": "https://localhost:8080/"
        },
        "id": "D30xoGRyjNH8",
        "outputId": "82c99a2f-484d-44ec-9969-34b77348ba33"
      },
      "execution_count": 186,
      "outputs": [
        {
          "output_type": "stream",
          "name": "stdout",
          "text": [
            "0.8666666666666667\n"
          ]
        }
      ]
    },
    {
      "cell_type": "markdown",
      "source": [
        "**Now, let's try defining KNN ourselves instead of using KNeighborsClassifier**"
      ],
      "metadata": {
        "id": "RGkBmcs3mnzQ"
      }
    },
    {
      "cell_type": "code",
      "source": [
        "from collections import Counter\n",
        "import math"
      ],
      "metadata": {
        "id": "NyBIFvoqmgHk"
      },
      "execution_count": 187,
      "outputs": []
    },
    {
      "cell_type": "markdown",
      "source": [
        "**Debugging process:**\n",
        "\n",
        "Since our data was already cut into X_train, y_train, X_test,Y_test and standardized, to get the k nearest neighbors' label I had to access the indicies of X_train and y_train. However, the problem was that y_train's indicies still had the original associated indicies when df was sliced (1,4,12,13, ...). This was because X_train was type numpy array, but y_train was type pandas series. So to resolve the keyError, **y_train was replaced by y_train.values**.\n",
        "\n",
        "*when the data was split and the target column was assigned to y_train, it became a series.\n",
        "\n",
        "*The fit_transform function usually returns a NumPy array. Many scaler methods are implemented with NumPy arrays for efficiency."
      ],
      "metadata": {
        "id": "Xzy2sG4j_3Jx"
      }
    },
    {
      "cell_type": "code",
      "source": [
        "# calculate distance between two points\n",
        "def euclidean_distance(point1, point2):\n",
        "  distance = 0\n",
        "  for i in range(len(point1)):\n",
        "\n",
        "    distance += math.pow(point1[i]-point2[i],2)\n",
        "    return math.sqrt(distance)\n",
        "\n",
        "# get k nearest neighbors of unknown point\n",
        "def k_neighbors(X_train, unknown_point, k):\n",
        "  distances = []\n",
        "  neighbors_index = []\n",
        "  for i in range(0,len(X_train)):\n",
        "    distance = euclidean_distance(X_train[i], unknown_point)\n",
        "    distances.append((i,distance))\n",
        "  distances.sort(key=lambda d: d[1]) # lambda keyword allows us to decare anonymous single-line functions\n",
        "  neighbors = distances[:k]\n",
        "  neighbors_index = [neighbor[0] for neighbor in neighbors]\n",
        "  return neighbors_index\n",
        "\n",
        "\n",
        "# classify unknown point\n",
        "def classify(y_train, neighbors_index):\n",
        "\n",
        "  labels = [y_train[i] for i in neighbors_index]\n",
        "\n",
        "  return Counter(labels).most_common(1)[0][0] # access the most(1) common label[0], get only the label[0]\n",
        "\n",
        "# classify test_data and find accuracy\n",
        "def knn(X_train, y_train, X_test, y_test, k):\n",
        "  predictions = []\n",
        "\n",
        "  for point in X_test:\n",
        "    label = classify(y_train, k_neighbors(X_train, point, k))\n",
        "    predictions.append(label)\n",
        "\n",
        "  print(accuracy_score(y_test,y_pred,))\n",
        "  return predictions\n",
        "\n",
        "\n",
        "knn(X_train, y_train.values, X_test, y_test, 7)\n"
      ],
      "metadata": {
        "id": "NDql4jJcnEGx",
        "colab": {
          "base_uri": "https://localhost:8080/"
        },
        "outputId": "9223a76b-8648-4bc5-da13-e030ed873f06"
      },
      "execution_count": 199,
      "outputs": [
        {
          "output_type": "stream",
          "name": "stdout",
          "text": [
            "0.8666666666666667\n"
          ]
        },
        {
          "output_type": "execute_result",
          "data": {
            "text/plain": [
              "['setosa',\n",
              " 'virginica',\n",
              " 'virginica',\n",
              " 'versicolor',\n",
              " 'virginica',\n",
              " 'virginica',\n",
              " 'versicolor',\n",
              " 'setosa',\n",
              " 'versicolor',\n",
              " 'setosa',\n",
              " 'setosa',\n",
              " 'setosa',\n",
              " 'setosa',\n",
              " 'virginica',\n",
              " 'setosa',\n",
              " 'virginica',\n",
              " 'virginica',\n",
              " 'virginica',\n",
              " 'versicolor',\n",
              " 'versicolor',\n",
              " 'versicolor',\n",
              " 'versicolor',\n",
              " 'versicolor',\n",
              " 'setosa',\n",
              " 'setosa',\n",
              " 'virginica',\n",
              " 'versicolor',\n",
              " 'virginica',\n",
              " 'virginica',\n",
              " 'setosa']"
            ]
          },
          "metadata": {},
          "execution_count": 199
        }
      ]
    }
  ]
}