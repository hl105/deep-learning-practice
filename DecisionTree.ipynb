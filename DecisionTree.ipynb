{
  "nbformat": 4,
  "nbformat_minor": 0,
  "metadata": {
    "colab": {
      "provenance": [],
      "authorship_tag": "ABX9TyM7RmGXK30MXiuADFl44/BL",
      "include_colab_link": true
    },
    "kernelspec": {
      "name": "python3",
      "display_name": "Python 3"
    },
    "language_info": {
      "name": "python"
    }
  },
  "cells": [
    {
      "cell_type": "markdown",
      "metadata": {
        "id": "view-in-github",
        "colab_type": "text"
      },
      "source": [
        "<a href=\"https://colab.research.google.com/github/hl105/deep-learning-practice/blob/main/DecisionTree.ipynb\" target=\"_parent\"><img src=\"https://colab.research.google.com/assets/colab-badge.svg\" alt=\"Open In Colab\"/></a>"
      ]
    },
    {
      "cell_type": "markdown",
      "source": [
        "Decision Trees\n",
        "---\n",
        "(from [towarddatascience article](https://towardsdatascience.com/decision-trees-explained-entropy-information-gain-gini-index-ccp-pruning-4d78070db36c))\n",
        "1. ex) try to classify if a patient is diabetic or not based on predictor variables (BMI, BP, etc.).\n",
        "2. split the predictor space. The target variable is split into different subgroups that are more homeogenous.\n",
        "3. def: branching flow diagram.\n",
        " - target variable\n",
        " - node purity: decision nodes are typically impture, or would have only one class(is diabetic) if its pure.\n",
        " - decision nodes: intermediate nodes where target variable is split\n",
        " - leaf nodes: pure nodes - so used for making prediction\n",
        "4. questions:\n",
        " - flow of info through the tree\n",
        " - how to select which variable to split on at decision nodes?\n",
        " - how do we know if the tree has enough branches?\n",
        " 5. answers:\n",
        "  - flow:\n",
        "    - root node: first node that splits the target variable\n",
        "    - we find this by evluating the impact of all variables that splits the target variables into the most homogeneous\n",
        "    - we split and try to get it to have only one category (purity)\n",
        "  - recursive bianary splitting: top-down, greedy(best split is made) approach\n",
        "  - variable selction criterion:\n",
        "   - 1. Entropy and Information Gain\n",
        "    - entropy: measure of impurity in a node\n",
        "    - maximum is 1, min is 0\n",
        "    - information gain: the change in entropy when the tree calculates the entropy for each variable and potential splits.Entropy_parent - Entropy_children\n",
        "   - 2. Gini Index\n",
        "    - measure probability for a random instance being misclassfied when chosen randomly.\n",
        "    - lower Gini Index = lower likelyhood of misclassification = good\n",
        "    - min = 1 (highest purity), max = 0.5 (random assignment of classes)\n",
        "  - overfitting:\n",
        "    - it's easy to verfit -- leaf node only has one or two instances, bad genearlization. We can prevent this by:\n",
        "     - **Pre pruning** (early stopping).\n",
        "       - tune **hyperparameters** prior to training. max_depth, min_samples_leaf, min_samples_split. Use **GridSearchCV** technique to find best et of hyperparameters\n",
        "       - horizon problem: early stopping may prevent fruitful splits down the line\n",
        "     - **Post pruning**: allow tree to grow to full depth and get rid of brances\n",
        "       - criteria: **MSE** for regression trees, **classification error** for classifcation trees\n",
        "       - problem: tree can grow very deep and larnge, so evaluation can be expenseive.\n",
        "       - **Cost complexity pruning** (CCP):\n",
        "         1. how do we know what sub tree to prune? intutition: remove subtrees so that the test error rate will get lower. But trying this for every branch is very expensive.\n",
        "         2. CCP uses the tuning parameter α. α controls a trade-off beween the subtree's complexity and fit to the training data.\n",
        "         3. if α = 0, we are minimizing the training loss.  Thre tree will be the same as the original tree.\n",
        "         4. the algorithm hunts out nodes where the training loss is alreay high and can be minimized with a small α.\n",
        "         5.sklearn privides: DecisionTreeClassifier.cost_compelxity_pruning_path that reutrns effective αs and total leaf impurities at each step fo the pruning process\n",
        "     - ensembling\n",
        "\n",
        "  "
      ],
      "metadata": {
        "id": "9BmALKgmLDOB"
      }
    },
    {
      "cell_type": "code",
      "source": [
        "import pandas as pd\n",
        "import matplotlib.pyplot as plt\n",
        "from sklearn import tree\n",
        "from sklearn.datasets import load_iris\n",
        "from sklearn.model_selection import train_test_split\n",
        "from sklearn import metrics\n",
        "import graphviz"
      ],
      "metadata": {
        "id": "14HReq-KNcXc"
      },
      "execution_count": 29,
      "outputs": []
    },
    {
      "cell_type": "code",
      "execution_count": 20,
      "metadata": {
        "id": "P34ndnX6IPua",
        "colab": {
          "base_uri": "https://localhost:8080/",
          "height": 206
        },
        "outputId": "43bc7c75-3fc4-4088-b7d9-a7d28d6a1163"
      },
      "outputs": [
        {
          "output_type": "execute_result",
          "data": {
            "text/plain": [
              "   sepal length (cm)  sepal width (cm)  petal length (cm)  petal width (cm)  \\\n",
              "0                5.1               3.5                1.4               0.2   \n",
              "1                4.9               3.0                1.4               0.2   \n",
              "2                4.7               3.2                1.3               0.2   \n",
              "3                4.6               3.1                1.5               0.2   \n",
              "4                5.0               3.6                1.4               0.2   \n",
              "\n",
              "   target  \n",
              "0       0  \n",
              "1       0  \n",
              "2       0  \n",
              "3       0  \n",
              "4       0  "
            ],
            "text/html": [
              "\n",
              "\n",
              "  <div id=\"df-070accba-9305-4832-89f5-2687c69209db\">\n",
              "    <div class=\"colab-df-container\">\n",
              "      <div>\n",
              "<style scoped>\n",
              "    .dataframe tbody tr th:only-of-type {\n",
              "        vertical-align: middle;\n",
              "    }\n",
              "\n",
              "    .dataframe tbody tr th {\n",
              "        vertical-align: top;\n",
              "    }\n",
              "\n",
              "    .dataframe thead th {\n",
              "        text-align: right;\n",
              "    }\n",
              "</style>\n",
              "<table border=\"1\" class=\"dataframe\">\n",
              "  <thead>\n",
              "    <tr style=\"text-align: right;\">\n",
              "      <th></th>\n",
              "      <th>sepal length (cm)</th>\n",
              "      <th>sepal width (cm)</th>\n",
              "      <th>petal length (cm)</th>\n",
              "      <th>petal width (cm)</th>\n",
              "      <th>target</th>\n",
              "    </tr>\n",
              "  </thead>\n",
              "  <tbody>\n",
              "    <tr>\n",
              "      <th>0</th>\n",
              "      <td>5.1</td>\n",
              "      <td>3.5</td>\n",
              "      <td>1.4</td>\n",
              "      <td>0.2</td>\n",
              "      <td>0</td>\n",
              "    </tr>\n",
              "    <tr>\n",
              "      <th>1</th>\n",
              "      <td>4.9</td>\n",
              "      <td>3.0</td>\n",
              "      <td>1.4</td>\n",
              "      <td>0.2</td>\n",
              "      <td>0</td>\n",
              "    </tr>\n",
              "    <tr>\n",
              "      <th>2</th>\n",
              "      <td>4.7</td>\n",
              "      <td>3.2</td>\n",
              "      <td>1.3</td>\n",
              "      <td>0.2</td>\n",
              "      <td>0</td>\n",
              "    </tr>\n",
              "    <tr>\n",
              "      <th>3</th>\n",
              "      <td>4.6</td>\n",
              "      <td>3.1</td>\n",
              "      <td>1.5</td>\n",
              "      <td>0.2</td>\n",
              "      <td>0</td>\n",
              "    </tr>\n",
              "    <tr>\n",
              "      <th>4</th>\n",
              "      <td>5.0</td>\n",
              "      <td>3.6</td>\n",
              "      <td>1.4</td>\n",
              "      <td>0.2</td>\n",
              "      <td>0</td>\n",
              "    </tr>\n",
              "  </tbody>\n",
              "</table>\n",
              "</div>\n",
              "      <button class=\"colab-df-convert\" onclick=\"convertToInteractive('df-070accba-9305-4832-89f5-2687c69209db')\"\n",
              "              title=\"Convert this dataframe to an interactive table.\"\n",
              "              style=\"display:none;\">\n",
              "\n",
              "  <svg xmlns=\"http://www.w3.org/2000/svg\" height=\"24px\"viewBox=\"0 0 24 24\"\n",
              "       width=\"24px\">\n",
              "    <path d=\"M0 0h24v24H0V0z\" fill=\"none\"/>\n",
              "    <path d=\"M18.56 5.44l.94 2.06.94-2.06 2.06-.94-2.06-.94-.94-2.06-.94 2.06-2.06.94zm-11 1L8.5 8.5l.94-2.06 2.06-.94-2.06-.94L8.5 2.5l-.94 2.06-2.06.94zm10 10l.94 2.06.94-2.06 2.06-.94-2.06-.94-.94-2.06-.94 2.06-2.06.94z\"/><path d=\"M17.41 7.96l-1.37-1.37c-.4-.4-.92-.59-1.43-.59-.52 0-1.04.2-1.43.59L10.3 9.45l-7.72 7.72c-.78.78-.78 2.05 0 2.83L4 21.41c.39.39.9.59 1.41.59.51 0 1.02-.2 1.41-.59l7.78-7.78 2.81-2.81c.8-.78.8-2.07 0-2.86zM5.41 20L4 18.59l7.72-7.72 1.47 1.35L5.41 20z\"/>\n",
              "  </svg>\n",
              "      </button>\n",
              "\n",
              "\n",
              "\n",
              "    <div id=\"df-ced67b83-64fc-40a3-be2b-91024116c1ba\">\n",
              "      <button class=\"colab-df-quickchart\" onclick=\"quickchart('df-ced67b83-64fc-40a3-be2b-91024116c1ba')\"\n",
              "              title=\"Suggest charts.\"\n",
              "              style=\"display:none;\">\n",
              "\n",
              "<svg xmlns=\"http://www.w3.org/2000/svg\" height=\"24px\"viewBox=\"0 0 24 24\"\n",
              "     width=\"24px\">\n",
              "    <g>\n",
              "        <path d=\"M19 3H5c-1.1 0-2 .9-2 2v14c0 1.1.9 2 2 2h14c1.1 0 2-.9 2-2V5c0-1.1-.9-2-2-2zM9 17H7v-7h2v7zm4 0h-2V7h2v10zm4 0h-2v-4h2v4z\"/>\n",
              "    </g>\n",
              "</svg>\n",
              "      </button>\n",
              "    </div>\n",
              "\n",
              "<style>\n",
              "  .colab-df-quickchart {\n",
              "    background-color: #E8F0FE;\n",
              "    border: none;\n",
              "    border-radius: 50%;\n",
              "    cursor: pointer;\n",
              "    display: none;\n",
              "    fill: #1967D2;\n",
              "    height: 32px;\n",
              "    padding: 0 0 0 0;\n",
              "    width: 32px;\n",
              "  }\n",
              "\n",
              "  .colab-df-quickchart:hover {\n",
              "    background-color: #E2EBFA;\n",
              "    box-shadow: 0px 1px 2px rgba(60, 64, 67, 0.3), 0px 1px 3px 1px rgba(60, 64, 67, 0.15);\n",
              "    fill: #174EA6;\n",
              "  }\n",
              "\n",
              "  [theme=dark] .colab-df-quickchart {\n",
              "    background-color: #3B4455;\n",
              "    fill: #D2E3FC;\n",
              "  }\n",
              "\n",
              "  [theme=dark] .colab-df-quickchart:hover {\n",
              "    background-color: #434B5C;\n",
              "    box-shadow: 0px 1px 3px 1px rgba(0, 0, 0, 0.15);\n",
              "    filter: drop-shadow(0px 1px 2px rgba(0, 0, 0, 0.3));\n",
              "    fill: #FFFFFF;\n",
              "  }\n",
              "</style>\n",
              "\n",
              "    <script>\n",
              "      async function quickchart(key) {\n",
              "        const containerElement = document.querySelector('#' + key);\n",
              "        const charts = await google.colab.kernel.invokeFunction(\n",
              "            'suggestCharts', [key], {});\n",
              "      }\n",
              "    </script>\n",
              "\n",
              "      <script>\n",
              "\n",
              "function displayQuickchartButton(domScope) {\n",
              "  let quickchartButtonEl =\n",
              "    domScope.querySelector('#df-ced67b83-64fc-40a3-be2b-91024116c1ba button.colab-df-quickchart');\n",
              "  quickchartButtonEl.style.display =\n",
              "    google.colab.kernel.accessAllowed ? 'block' : 'none';\n",
              "}\n",
              "\n",
              "        displayQuickchartButton(document);\n",
              "      </script>\n",
              "      <style>\n",
              "    .colab-df-container {\n",
              "      display:flex;\n",
              "      flex-wrap:wrap;\n",
              "      gap: 12px;\n",
              "    }\n",
              "\n",
              "    .colab-df-convert {\n",
              "      background-color: #E8F0FE;\n",
              "      border: none;\n",
              "      border-radius: 50%;\n",
              "      cursor: pointer;\n",
              "      display: none;\n",
              "      fill: #1967D2;\n",
              "      height: 32px;\n",
              "      padding: 0 0 0 0;\n",
              "      width: 32px;\n",
              "    }\n",
              "\n",
              "    .colab-df-convert:hover {\n",
              "      background-color: #E2EBFA;\n",
              "      box-shadow: 0px 1px 2px rgba(60, 64, 67, 0.3), 0px 1px 3px 1px rgba(60, 64, 67, 0.15);\n",
              "      fill: #174EA6;\n",
              "    }\n",
              "\n",
              "    [theme=dark] .colab-df-convert {\n",
              "      background-color: #3B4455;\n",
              "      fill: #D2E3FC;\n",
              "    }\n",
              "\n",
              "    [theme=dark] .colab-df-convert:hover {\n",
              "      background-color: #434B5C;\n",
              "      box-shadow: 0px 1px 3px 1px rgba(0, 0, 0, 0.15);\n",
              "      filter: drop-shadow(0px 1px 2px rgba(0, 0, 0, 0.3));\n",
              "      fill: #FFFFFF;\n",
              "    }\n",
              "  </style>\n",
              "\n",
              "      <script>\n",
              "        const buttonEl =\n",
              "          document.querySelector('#df-070accba-9305-4832-89f5-2687c69209db button.colab-df-convert');\n",
              "        buttonEl.style.display =\n",
              "          google.colab.kernel.accessAllowed ? 'block' : 'none';\n",
              "\n",
              "        async function convertToInteractive(key) {\n",
              "          const element = document.querySelector('#df-070accba-9305-4832-89f5-2687c69209db');\n",
              "          const dataTable =\n",
              "            await google.colab.kernel.invokeFunction('convertToInteractive',\n",
              "                                                     [key], {});\n",
              "          if (!dataTable) return;\n",
              "\n",
              "          const docLinkHtml = 'Like what you see? Visit the ' +\n",
              "            '<a target=\"_blank\" href=https://colab.research.google.com/notebooks/data_table.ipynb>data table notebook</a>'\n",
              "            + ' to learn more about interactive tables.';\n",
              "          element.innerHTML = '';\n",
              "          dataTable['output_type'] = 'display_data';\n",
              "          await google.colab.output.renderOutput(dataTable, element);\n",
              "          const docLink = document.createElement('div');\n",
              "          docLink.innerHTML = docLinkHtml;\n",
              "          element.appendChild(docLink);\n",
              "        }\n",
              "      </script>\n",
              "    </div>\n",
              "  </div>\n"
            ]
          },
          "metadata": {},
          "execution_count": 20
        }
      ],
      "source": [
        "df = load_iris(as_frame = True).frame\n",
        "df.head()"
      ]
    },
    {
      "cell_type": "code",
      "source": [
        "y = df['target'] # features\n",
        "X = df.drop('target', axis =1) # target variable"
      ],
      "metadata": {
        "id": "zxqJMcjROrgs"
      },
      "execution_count": 21,
      "outputs": []
    },
    {
      "cell_type": "code",
      "source": [
        "X_train, X_test, y_train, y_test = train_test_split(X,y, test_size = 0.3, random_state = 4)"
      ],
      "metadata": {
        "id": "BRDM9A5-O_5d"
      },
      "execution_count": 22,
      "outputs": []
    },
    {
      "cell_type": "code",
      "source": [
        "# create model\n",
        "clf = tree.DecisionTreeClassifier() # default is gini\n",
        "\n",
        "#train model\n",
        "clf = clf.fit(X_train, y_train)\n",
        "\n",
        "# predict\n",
        "y_pred = clf.predict(X_test)"
      ],
      "metadata": {
        "id": "ZUtU21IvPIly"
      },
      "execution_count": 23,
      "outputs": []
    },
    {
      "cell_type": "code",
      "source": [
        "print(\"Accuracy:\", metrics.accuracy_score(y_test,y_pred))"
      ],
      "metadata": {
        "colab": {
          "base_uri": "https://localhost:8080/"
        },
        "id": "HicM2iadQlyh",
        "outputId": "9bfcc575-da84-43a6-9416-558c2f86c10c"
      },
      "execution_count": 24,
      "outputs": [
        {
          "output_type": "stream",
          "name": "stdout",
          "text": [
            "Accuracy: 0.9777777777777777\n"
          ]
        }
      ]
    },
    {
      "cell_type": "markdown",
      "source": [
        "Visualizing Decision Trees"
      ],
      "metadata": {
        "id": "ZvxZYjstQwnP"
      }
    },
    {
      "cell_type": "code",
      "source": [
        "plt.figure()\n",
        "tree.plot_tree(clf)\n"
      ],
      "metadata": {
        "colab": {
          "base_uri": "https://localhost:8080/",
          "height": 674
        },
        "id": "546F0xpWQyjb",
        "outputId": "5baf50fd-8be5-4895-af7c-94c3d45f0047"
      },
      "execution_count": 25,
      "outputs": [
        {
          "output_type": "execute_result",
          "data": {
            "text/plain": [
              "[Text(0.5, 0.9, 'x[2] <= 2.45\\ngini = 0.661\\nsamples = 105\\nvalue = [29, 40, 36]'),\n",
              " Text(0.4230769230769231, 0.7, 'gini = 0.0\\nsamples = 29\\nvalue = [29, 0, 0]'),\n",
              " Text(0.5769230769230769, 0.7, 'x[3] <= 1.75\\ngini = 0.499\\nsamples = 76\\nvalue = [0, 40, 36]'),\n",
              " Text(0.3076923076923077, 0.5, 'x[2] <= 4.95\\ngini = 0.169\\nsamples = 43\\nvalue = [0, 39, 4]'),\n",
              " Text(0.15384615384615385, 0.3, 'x[3] <= 1.65\\ngini = 0.05\\nsamples = 39\\nvalue = [0, 38, 1]'),\n",
              " Text(0.07692307692307693, 0.1, 'gini = 0.0\\nsamples = 38\\nvalue = [0, 38, 0]'),\n",
              " Text(0.23076923076923078, 0.1, 'gini = 0.0\\nsamples = 1\\nvalue = [0, 0, 1]'),\n",
              " Text(0.46153846153846156, 0.3, 'x[3] <= 1.65\\ngini = 0.375\\nsamples = 4\\nvalue = [0, 1, 3]'),\n",
              " Text(0.38461538461538464, 0.1, 'gini = 0.0\\nsamples = 3\\nvalue = [0, 0, 3]'),\n",
              " Text(0.5384615384615384, 0.1, 'gini = 0.0\\nsamples = 1\\nvalue = [0, 1, 0]'),\n",
              " Text(0.8461538461538461, 0.5, 'x[2] <= 4.85\\ngini = 0.059\\nsamples = 33\\nvalue = [0, 1, 32]'),\n",
              " Text(0.7692307692307693, 0.3, 'x[0] <= 5.95\\ngini = 0.444\\nsamples = 3\\nvalue = [0, 1, 2]'),\n",
              " Text(0.6923076923076923, 0.1, 'gini = 0.0\\nsamples = 1\\nvalue = [0, 1, 0]'),\n",
              " Text(0.8461538461538461, 0.1, 'gini = 0.0\\nsamples = 2\\nvalue = [0, 0, 2]'),\n",
              " Text(0.9230769230769231, 0.3, 'gini = 0.0\\nsamples = 30\\nvalue = [0, 0, 30]')]"
            ]
          },
          "metadata": {},
          "execution_count": 25
        },
        {
          "output_type": "display_data",
          "data": {
            "text/plain": [
              "<Figure size 640x480 with 1 Axes>"
            ],
            "image/png": "[encoded data removed]"
          },
          "metadata": {}
        }
      ]
    },
    {
      "cell_type": "markdown",
      "source": [
        "values represent class distirbution at specific node."
      ],
      "metadata": {
        "id": "BR_UIdf1XMZP"
      }
    },
    {
      "cell_type": "code",
      "source": [
        "dot_data = tree.export_graphviz(clf, out_file = None, feature_names = X_train.columns, class_names = [\"Setosa\", \"Versicolor\",\"Virginica\"], filled = True, rounded = True, special_characters = True)\n",
        "graph = graphviz.Source(dot_data)\n",
        "graph"
      ],
      "metadata": {
        "colab": {
          "base_uri": "https://localhost:8080/",
          "height": 777
        },
        "id": "PsGdtDqCTtyW",
        "outputId": "bbc6947f-4183-4435-d9cc-dd7737c48374"
      },
      "execution_count": 38,
      "outputs": [
        {
          "output_type": "execute_result",
          "data": {
            "image/svg+xml": "<?xml version=\"1.0\" encoding=\"UTF-8\" standalone=\"no\"?>\n<!DOCTYPE svg PUBLIC \"-//W3C//DTD SVG 1.1//EN\"\n \"http://www.w3.org/Graphics/SVG/1.1/DTD/svg11.dtd\">\n<!-- Generated by graphviz version 2.43.0 (0)\n -->\n<!-- Title: Tree Pages: 1 -->\n<svg width=\"833pt\" height=\"552pt\"\n viewBox=\"0.00 0.00 832.50 552.00\" xmlns=\"http://www.w3.org/2000/svg\" xmlns:xlink=\"http://www.w3.org/1999/xlink\">\n<g id=\"graph0\" class=\"graph\" transform=\"scale(1 1) rotate(0) translate(4 548)\">\n<title>Tree</title>\n<polygon fill=\"white\" stroke=\"transparent\" points=\"-4,4 -4,-548 828.5,-548 828.5,4 -4,4\"/>\n<!-- 0 -->\n<g id=\"node1\" class=\"node\">\n<title>0</title>\n<path fill=\"#f4fdf8\" stroke=\"black\" d=\"M494.5,-544C494.5,-544 359.5,-544 359.5,-544 353.5,-544 347.5,-538 347.5,-532 347.5,-532 347.5,-473 347.5,-473 347.5,-467 353.5,-461 359.5,-461 359.5,-461 494.5,-461 494.5,-461 500.5,-461 506.5,-467 506.5,-473 506.5,-473 506.5,-532 506.5,-532 506.5,-538 500.5,-544 494.5,-544\"/>\n<text text-anchor=\"start\" x=\"355.5\" y=\"-528.8\" font-family=\"Helvetica,sans-Serif\" font-size=\"14.00\">petal length (cm) ≤ 2.45</text>\n<text text-anchor=\"start\" x=\"391.5\" y=\"-513.8\" font-family=\"Helvetica,sans-Serif\" font-size=\"14.00\">gini = 0.661</text>\n<text text-anchor=\"start\" x=\"382\" y=\"-498.8\" font-family=\"Helvetica,sans-Serif\" font-size=\"14.00\">samples = 105</text>\n<text text-anchor=\"start\" x=\"369\" y=\"-483.8\" font-family=\"Helvetica,sans-Serif\" font-size=\"14.00\">value = [29, 40, 36]</text>\n<text text-anchor=\"start\" x=\"374\" y=\"-468.8\" font-family=\"Helvetica,sans-Serif\" font-size=\"14.00\">class = Versicolor</text>\n</g>\n<!-- 1 -->\n<g id=\"node2\" class=\"node\">\n<title>1</title>\n<path fill=\"#e58139\" stroke=\"black\" d=\"M396.5,-417.5C396.5,-417.5 303.5,-417.5 303.5,-417.5 297.5,-417.5 291.5,-411.5 291.5,-405.5 291.5,-405.5 291.5,-361.5 291.5,-361.5 291.5,-355.5 297.5,-349.5 303.5,-349.5 303.5,-349.5 396.5,-349.5 396.5,-349.5 402.5,-349.5 408.5,-355.5 408.5,-361.5 408.5,-361.5 408.5,-405.5 408.5,-405.5 408.5,-411.5 402.5,-417.5 396.5,-417.5\"/>\n<text text-anchor=\"start\" x=\"322\" y=\"-402.3\" font-family=\"Helvetica,sans-Serif\" font-size=\"14.00\">gini = 0.0</text>\n<text text-anchor=\"start\" x=\"309\" y=\"-387.3\" font-family=\"Helvetica,sans-Serif\" font-size=\"14.00\">samples = 29</text>\n<text text-anchor=\"start\" x=\"299.5\" y=\"-372.3\" font-family=\"Helvetica,sans-Serif\" font-size=\"14.00\">value = [29, 0, 0]</text>\n<text text-anchor=\"start\" x=\"305.5\" y=\"-357.3\" font-family=\"Helvetica,sans-Serif\" font-size=\"14.00\">class = Setosa</text>\n</g>\n<!-- 0&#45;&gt;1 -->\n<g id=\"edge1\" class=\"edge\">\n<title>0&#45;&gt;1</title>\n<path fill=\"none\" stroke=\"black\" d=\"M400.29,-460.91C392.88,-449.65 384.83,-437.42 377.38,-426.11\"/>\n<polygon fill=\"black\" stroke=\"black\" points=\"380.25,-424.1 371.83,-417.67 374.4,-427.94 380.25,-424.1\"/>\n<text text-anchor=\"middle\" x=\"366.78\" y=\"-438.45\" font-family=\"Helvetica,sans-Serif\" font-size=\"14.00\">True</text>\n</g>\n<!-- 2 -->\n<g id=\"node3\" class=\"node\">\n<title>2</title>\n<path fill=\"#ebfcf2\" stroke=\"black\" d=\"M569,-425C569,-425 439,-425 439,-425 433,-425 427,-419 427,-413 427,-413 427,-354 427,-354 427,-348 433,-342 439,-342 439,-342 569,-342 569,-342 575,-342 581,-348 581,-354 581,-354 581,-413 581,-413 581,-419 575,-425 569,-425\"/>\n<text text-anchor=\"start\" x=\"435\" y=\"-409.8\" font-family=\"Helvetica,sans-Serif\" font-size=\"14.00\">petal width (cm) ≤ 1.75</text>\n<text text-anchor=\"start\" x=\"468.5\" y=\"-394.8\" font-family=\"Helvetica,sans-Serif\" font-size=\"14.00\">gini = 0.499</text>\n<text text-anchor=\"start\" x=\"463\" y=\"-379.8\" font-family=\"Helvetica,sans-Serif\" font-size=\"14.00\">samples = 76</text>\n<text text-anchor=\"start\" x=\"449.5\" y=\"-364.8\" font-family=\"Helvetica,sans-Serif\" font-size=\"14.00\">value = [0, 40, 36]</text>\n<text text-anchor=\"start\" x=\"451\" y=\"-349.8\" font-family=\"Helvetica,sans-Serif\" font-size=\"14.00\">class = Versicolor</text>\n</g>\n<!-- 0&#45;&gt;2 -->\n<g id=\"edge2\" class=\"edge\">\n<title>0&#45;&gt;2</title>\n<path fill=\"none\" stroke=\"black\" d=\"M453.71,-460.91C459.51,-452.1 465.7,-442.7 471.68,-433.61\"/>\n<polygon fill=\"black\" stroke=\"black\" points=\"474.76,-435.3 477.33,-425.02 468.91,-431.45 474.76,-435.3\"/>\n<text text-anchor=\"middle\" x=\"482.38\" y=\"-445.81\" font-family=\"Helvetica,sans-Serif\" font-size=\"14.00\">False</text>\n</g>\n<!-- 3 -->\n<g id=\"node4\" class=\"node\">\n<title>3</title>\n<path fill=\"#4de88e\" stroke=\"black\" d=\"M467.5,-306C467.5,-306 332.5,-306 332.5,-306 326.5,-306 320.5,-300 320.5,-294 320.5,-294 320.5,-235 320.5,-235 320.5,-229 326.5,-223 332.5,-223 332.5,-223 467.5,-223 467.5,-223 473.5,-223 479.5,-229 479.5,-235 479.5,-235 479.5,-294 479.5,-294 479.5,-300 473.5,-306 467.5,-306\"/>\n<text text-anchor=\"start\" x=\"328.5\" y=\"-290.8\" font-family=\"Helvetica,sans-Serif\" font-size=\"14.00\">petal length (cm) ≤ 4.95</text>\n<text text-anchor=\"start\" x=\"364.5\" y=\"-275.8\" font-family=\"Helvetica,sans-Serif\" font-size=\"14.00\">gini = 0.169</text>\n<text text-anchor=\"start\" x=\"359\" y=\"-260.8\" font-family=\"Helvetica,sans-Serif\" font-size=\"14.00\">samples = 43</text>\n<text text-anchor=\"start\" x=\"349.5\" y=\"-245.8\" font-family=\"Helvetica,sans-Serif\" font-size=\"14.00\">value = [0, 39, 4]</text>\n<text text-anchor=\"start\" x=\"347\" y=\"-230.8\" font-family=\"Helvetica,sans-Serif\" font-size=\"14.00\">class = Versicolor</text>\n</g>\n<!-- 2&#45;&gt;3 -->\n<g id=\"edge3\" class=\"edge\">\n<title>2&#45;&gt;3</title>\n<path fill=\"none\" stroke=\"black\" d=\"M467.92,-341.91C459.85,-332.83 451.22,-323.12 442.91,-313.77\"/>\n<polygon fill=\"black\" stroke=\"black\" points=\"445.28,-311.17 436.02,-306.02 440.05,-315.82 445.28,-311.17\"/>\n</g>\n<!-- 10 -->\n<g id=\"node11\" class=\"node\">\n<title>10</title>\n<path fill=\"#853fe6\" stroke=\"black\" d=\"M675.5,-306C675.5,-306 540.5,-306 540.5,-306 534.5,-306 528.5,-300 528.5,-294 528.5,-294 528.5,-235 528.5,-235 528.5,-229 534.5,-223 540.5,-223 540.5,-223 675.5,-223 675.5,-223 681.5,-223 687.5,-229 687.5,-235 687.5,-235 687.5,-294 687.5,-294 687.5,-300 681.5,-306 675.5,-306\"/>\n<text text-anchor=\"start\" x=\"536.5\" y=\"-290.8\" font-family=\"Helvetica,sans-Serif\" font-size=\"14.00\">petal length (cm) ≤ 4.85</text>\n<text text-anchor=\"start\" x=\"572.5\" y=\"-275.8\" font-family=\"Helvetica,sans-Serif\" font-size=\"14.00\">gini = 0.059</text>\n<text text-anchor=\"start\" x=\"567\" y=\"-260.8\" font-family=\"Helvetica,sans-Serif\" font-size=\"14.00\">samples = 33</text>\n<text text-anchor=\"start\" x=\"557.5\" y=\"-245.8\" font-family=\"Helvetica,sans-Serif\" font-size=\"14.00\">value = [0, 1, 32]</text>\n<text text-anchor=\"start\" x=\"558.5\" y=\"-230.8\" font-family=\"Helvetica,sans-Serif\" font-size=\"14.00\">class = Virginica</text>\n</g>\n<!-- 2&#45;&gt;10 -->\n<g id=\"edge10\" class=\"edge\">\n<title>2&#45;&gt;10</title>\n<path fill=\"none\" stroke=\"black\" d=\"M540.08,-341.91C548.15,-332.83 556.78,-323.12 565.09,-313.77\"/>\n<polygon fill=\"black\" stroke=\"black\" points=\"567.95,-315.82 571.98,-306.02 562.72,-311.17 567.95,-315.82\"/>\n</g>\n<!-- 4 -->\n<g id=\"node5\" class=\"node\">\n<title>4</title>\n<path fill=\"#3ee684\" stroke=\"black\" d=\"M263,-187C263,-187 133,-187 133,-187 127,-187 121,-181 121,-175 121,-175 121,-116 121,-116 121,-110 127,-104 133,-104 133,-104 263,-104 263,-104 269,-104 275,-110 275,-116 275,-116 275,-175 275,-175 275,-181 269,-187 263,-187\"/>\n<text text-anchor=\"start\" x=\"129\" y=\"-171.8\" font-family=\"Helvetica,sans-Serif\" font-size=\"14.00\">petal width (cm) ≤ 1.65</text>\n<text text-anchor=\"start\" x=\"166\" y=\"-156.8\" font-family=\"Helvetica,sans-Serif\" font-size=\"14.00\">gini = 0.05</text>\n<text text-anchor=\"start\" x=\"157\" y=\"-141.8\" font-family=\"Helvetica,sans-Serif\" font-size=\"14.00\">samples = 39</text>\n<text text-anchor=\"start\" x=\"147.5\" y=\"-126.8\" font-family=\"Helvetica,sans-Serif\" font-size=\"14.00\">value = [0, 38, 1]</text>\n<text text-anchor=\"start\" x=\"145\" y=\"-111.8\" font-family=\"Helvetica,sans-Serif\" font-size=\"14.00\">class = Versicolor</text>\n</g>\n<!-- 3&#45;&gt;4 -->\n<g id=\"edge4\" class=\"edge\">\n<title>3&#45;&gt;4</title>\n<path fill=\"none\" stroke=\"black\" d=\"M329.92,-222.91C312.84,-213.02 294.46,-202.37 276.99,-192.25\"/>\n<polygon fill=\"black\" stroke=\"black\" points=\"278.37,-189 267.96,-187.02 274.86,-195.06 278.37,-189\"/>\n</g>\n<!-- 7 -->\n<g id=\"node8\" class=\"node\">\n<title>7</title>\n<path fill=\"#ab7bee\" stroke=\"black\" d=\"M465,-187C465,-187 335,-187 335,-187 329,-187 323,-181 323,-175 323,-175 323,-116 323,-116 323,-110 329,-104 335,-104 335,-104 465,-104 465,-104 471,-104 477,-110 477,-116 477,-116 477,-175 477,-175 477,-181 471,-187 465,-187\"/>\n<text text-anchor=\"start\" x=\"331\" y=\"-171.8\" font-family=\"Helvetica,sans-Serif\" font-size=\"14.00\">petal width (cm) ≤ 1.65</text>\n<text text-anchor=\"start\" x=\"364.5\" y=\"-156.8\" font-family=\"Helvetica,sans-Serif\" font-size=\"14.00\">gini = 0.375</text>\n<text text-anchor=\"start\" x=\"362.5\" y=\"-141.8\" font-family=\"Helvetica,sans-Serif\" font-size=\"14.00\">samples = 4</text>\n<text text-anchor=\"start\" x=\"353\" y=\"-126.8\" font-family=\"Helvetica,sans-Serif\" font-size=\"14.00\">value = [0, 1, 3]</text>\n<text text-anchor=\"start\" x=\"350.5\" y=\"-111.8\" font-family=\"Helvetica,sans-Serif\" font-size=\"14.00\">class = Virginica</text>\n</g>\n<!-- 3&#45;&gt;7 -->\n<g id=\"edge7\" class=\"edge\">\n<title>3&#45;&gt;7</title>\n<path fill=\"none\" stroke=\"black\" d=\"M400,-222.91C400,-214.65 400,-205.86 400,-197.3\"/>\n<polygon fill=\"black\" stroke=\"black\" points=\"403.5,-197.02 400,-187.02 396.5,-197.02 403.5,-197.02\"/>\n</g>\n<!-- 5 -->\n<g id=\"node6\" class=\"node\">\n<title>5</title>\n<path fill=\"#39e581\" stroke=\"black\" d=\"M110,-68C110,-68 12,-68 12,-68 6,-68 0,-62 0,-56 0,-56 0,-12 0,-12 0,-6 6,0 12,0 12,0 110,0 110,0 116,0 122,-6 122,-12 122,-12 122,-56 122,-56 122,-62 116,-68 110,-68\"/>\n<text text-anchor=\"start\" x=\"33\" y=\"-52.8\" font-family=\"Helvetica,sans-Serif\" font-size=\"14.00\">gini = 0.0</text>\n<text text-anchor=\"start\" x=\"20\" y=\"-37.8\" font-family=\"Helvetica,sans-Serif\" font-size=\"14.00\">samples = 38</text>\n<text text-anchor=\"start\" x=\"10.5\" y=\"-22.8\" font-family=\"Helvetica,sans-Serif\" font-size=\"14.00\">value = [0, 38, 0]</text>\n<text text-anchor=\"start\" x=\"8\" y=\"-7.8\" font-family=\"Helvetica,sans-Serif\" font-size=\"14.00\">class = Versicolor</text>\n</g>\n<!-- 4&#45;&gt;5 -->\n<g id=\"edge5\" class=\"edge\">\n<title>4&#45;&gt;5</title>\n<path fill=\"none\" stroke=\"black\" d=\"M146.99,-103.73C135.12,-94.24 122.5,-84.16 110.69,-74.72\"/>\n<polygon fill=\"black\" stroke=\"black\" points=\"112.66,-71.81 102.66,-68.3 108.29,-77.28 112.66,-71.81\"/>\n</g>\n<!-- 6 -->\n<g id=\"node7\" class=\"node\">\n<title>6</title>\n<path fill=\"#8139e5\" stroke=\"black\" d=\"M243.5,-68C243.5,-68 152.5,-68 152.5,-68 146.5,-68 140.5,-62 140.5,-56 140.5,-56 140.5,-12 140.5,-12 140.5,-6 146.5,0 152.5,0 152.5,0 243.5,0 243.5,0 249.5,0 255.5,-6 255.5,-12 255.5,-12 255.5,-56 255.5,-56 255.5,-62 249.5,-68 243.5,-68\"/>\n<text text-anchor=\"start\" x=\"170\" y=\"-52.8\" font-family=\"Helvetica,sans-Serif\" font-size=\"14.00\">gini = 0.0</text>\n<text text-anchor=\"start\" x=\"160.5\" y=\"-37.8\" font-family=\"Helvetica,sans-Serif\" font-size=\"14.00\">samples = 1</text>\n<text text-anchor=\"start\" x=\"151\" y=\"-22.8\" font-family=\"Helvetica,sans-Serif\" font-size=\"14.00\">value = [0, 0, 1]</text>\n<text text-anchor=\"start\" x=\"148.5\" y=\"-7.8\" font-family=\"Helvetica,sans-Serif\" font-size=\"14.00\">class = Virginica</text>\n</g>\n<!-- 4&#45;&gt;6 -->\n<g id=\"edge6\" class=\"edge\">\n<title>4&#45;&gt;6</title>\n<path fill=\"none\" stroke=\"black\" d=\"M198,-103.73C198,-95.52 198,-86.86 198,-78.56\"/>\n<polygon fill=\"black\" stroke=\"black\" points=\"201.5,-78.3 198,-68.3 194.5,-78.3 201.5,-78.3\"/>\n</g>\n<!-- 8 -->\n<g id=\"node9\" class=\"node\">\n<title>8</title>\n<path fill=\"#8139e5\" stroke=\"black\" d=\"M376.5,-68C376.5,-68 285.5,-68 285.5,-68 279.5,-68 273.5,-62 273.5,-56 273.5,-56 273.5,-12 273.5,-12 273.5,-6 279.5,0 285.5,0 285.5,0 376.5,0 376.5,0 382.5,0 388.5,-6 388.5,-12 388.5,-12 388.5,-56 388.5,-56 388.5,-62 382.5,-68 376.5,-68\"/>\n<text text-anchor=\"start\" x=\"303\" y=\"-52.8\" font-family=\"Helvetica,sans-Serif\" font-size=\"14.00\">gini = 0.0</text>\n<text text-anchor=\"start\" x=\"293.5\" y=\"-37.8\" font-family=\"Helvetica,sans-Serif\" font-size=\"14.00\">samples = 3</text>\n<text text-anchor=\"start\" x=\"284\" y=\"-22.8\" font-family=\"Helvetica,sans-Serif\" font-size=\"14.00\">value = [0, 0, 3]</text>\n<text text-anchor=\"start\" x=\"281.5\" y=\"-7.8\" font-family=\"Helvetica,sans-Serif\" font-size=\"14.00\">class = Virginica</text>\n</g>\n<!-- 7&#45;&gt;8 -->\n<g id=\"edge8\" class=\"edge\">\n<title>7&#45;&gt;8</title>\n<path fill=\"none\" stroke=\"black\" d=\"M374.31,-103.73C368.79,-94.97 362.95,-85.7 357.41,-76.91\"/>\n<polygon fill=\"black\" stroke=\"black\" points=\"360.28,-74.89 351.98,-68.3 354.35,-78.63 360.28,-74.89\"/>\n</g>\n<!-- 9 -->\n<g id=\"node10\" class=\"node\">\n<title>9</title>\n<path fill=\"#39e581\" stroke=\"black\" d=\"M517,-68C517,-68 419,-68 419,-68 413,-68 407,-62 407,-56 407,-56 407,-12 407,-12 407,-6 413,0 419,0 419,0 517,0 517,0 523,0 529,-6 529,-12 529,-12 529,-56 529,-56 529,-62 523,-68 517,-68\"/>\n<text text-anchor=\"start\" x=\"440\" y=\"-52.8\" font-family=\"Helvetica,sans-Serif\" font-size=\"14.00\">gini = 0.0</text>\n<text text-anchor=\"start\" x=\"430.5\" y=\"-37.8\" font-family=\"Helvetica,sans-Serif\" font-size=\"14.00\">samples = 1</text>\n<text text-anchor=\"start\" x=\"421\" y=\"-22.8\" font-family=\"Helvetica,sans-Serif\" font-size=\"14.00\">value = [0, 1, 0]</text>\n<text text-anchor=\"start\" x=\"415\" y=\"-7.8\" font-family=\"Helvetica,sans-Serif\" font-size=\"14.00\">class = Versicolor</text>\n</g>\n<!-- 7&#45;&gt;9 -->\n<g id=\"edge9\" class=\"edge\">\n<title>7&#45;&gt;9</title>\n<path fill=\"none\" stroke=\"black\" d=\"M425.32,-103.73C430.76,-94.97 436.51,-85.7 441.98,-76.91\"/>\n<polygon fill=\"black\" stroke=\"black\" points=\"445.02,-78.64 447.32,-68.3 439.07,-74.95 445.02,-78.64\"/>\n</g>\n<!-- 11 -->\n<g id=\"node12\" class=\"node\">\n<title>11</title>\n<path fill=\"#c09cf2\" stroke=\"black\" d=\"M677,-187C677,-187 539,-187 539,-187 533,-187 527,-181 527,-175 527,-175 527,-116 527,-116 527,-110 533,-104 539,-104 539,-104 677,-104 677,-104 683,-104 689,-110 689,-116 689,-116 689,-175 689,-175 689,-181 683,-187 677,-187\"/>\n<text text-anchor=\"start\" x=\"535\" y=\"-171.8\" font-family=\"Helvetica,sans-Serif\" font-size=\"14.00\">sepal length (cm) ≤ 5.95</text>\n<text text-anchor=\"start\" x=\"572.5\" y=\"-156.8\" font-family=\"Helvetica,sans-Serif\" font-size=\"14.00\">gini = 0.444</text>\n<text text-anchor=\"start\" x=\"570.5\" y=\"-141.8\" font-family=\"Helvetica,sans-Serif\" font-size=\"14.00\">samples = 3</text>\n<text text-anchor=\"start\" x=\"561\" y=\"-126.8\" font-family=\"Helvetica,sans-Serif\" font-size=\"14.00\">value = [0, 1, 2]</text>\n<text text-anchor=\"start\" x=\"558.5\" y=\"-111.8\" font-family=\"Helvetica,sans-Serif\" font-size=\"14.00\">class = Virginica</text>\n</g>\n<!-- 10&#45;&gt;11 -->\n<g id=\"edge11\" class=\"edge\">\n<title>10&#45;&gt;11</title>\n<path fill=\"none\" stroke=\"black\" d=\"M608,-222.91C608,-214.65 608,-205.86 608,-197.3\"/>\n<polygon fill=\"black\" stroke=\"black\" points=\"611.5,-197.02 608,-187.02 604.5,-197.02 611.5,-197.02\"/>\n</g>\n<!-- 14 -->\n<g id=\"node15\" class=\"node\">\n<title>14</title>\n<path fill=\"#8139e5\" stroke=\"black\" d=\"M812.5,-179.5C812.5,-179.5 719.5,-179.5 719.5,-179.5 713.5,-179.5 707.5,-173.5 707.5,-167.5 707.5,-167.5 707.5,-123.5 707.5,-123.5 707.5,-117.5 713.5,-111.5 719.5,-111.5 719.5,-111.5 812.5,-111.5 812.5,-111.5 818.5,-111.5 824.5,-117.5 824.5,-123.5 824.5,-123.5 824.5,-167.5 824.5,-167.5 824.5,-173.5 818.5,-179.5 812.5,-179.5\"/>\n<text text-anchor=\"start\" x=\"738\" y=\"-164.3\" font-family=\"Helvetica,sans-Serif\" font-size=\"14.00\">gini = 0.0</text>\n<text text-anchor=\"start\" x=\"725\" y=\"-149.3\" font-family=\"Helvetica,sans-Serif\" font-size=\"14.00\">samples = 30</text>\n<text text-anchor=\"start\" x=\"715.5\" y=\"-134.3\" font-family=\"Helvetica,sans-Serif\" font-size=\"14.00\">value = [0, 0, 30]</text>\n<text text-anchor=\"start\" x=\"716.5\" y=\"-119.3\" font-family=\"Helvetica,sans-Serif\" font-size=\"14.00\">class = Virginica</text>\n</g>\n<!-- 10&#45;&gt;14 -->\n<g id=\"edge14\" class=\"edge\">\n<title>10&#45;&gt;14</title>\n<path fill=\"none\" stroke=\"black\" d=\"M662.82,-222.91C679.06,-210.88 696.81,-197.73 712.94,-185.79\"/>\n<polygon fill=\"black\" stroke=\"black\" points=\"715.26,-188.43 721.21,-179.67 711.09,-182.81 715.26,-188.43\"/>\n</g>\n<!-- 12 -->\n<g id=\"node13\" class=\"node\">\n<title>12</title>\n<path fill=\"#39e581\" stroke=\"black\" d=\"M657,-68C657,-68 559,-68 559,-68 553,-68 547,-62 547,-56 547,-56 547,-12 547,-12 547,-6 553,0 559,0 559,0 657,0 657,0 663,0 669,-6 669,-12 669,-12 669,-56 669,-56 669,-62 663,-68 657,-68\"/>\n<text text-anchor=\"start\" x=\"580\" y=\"-52.8\" font-family=\"Helvetica,sans-Serif\" font-size=\"14.00\">gini = 0.0</text>\n<text text-anchor=\"start\" x=\"570.5\" y=\"-37.8\" font-family=\"Helvetica,sans-Serif\" font-size=\"14.00\">samples = 1</text>\n<text text-anchor=\"start\" x=\"561\" y=\"-22.8\" font-family=\"Helvetica,sans-Serif\" font-size=\"14.00\">value = [0, 1, 0]</text>\n<text text-anchor=\"start\" x=\"555\" y=\"-7.8\" font-family=\"Helvetica,sans-Serif\" font-size=\"14.00\">class = Versicolor</text>\n</g>\n<!-- 11&#45;&gt;12 -->\n<g id=\"edge12\" class=\"edge\">\n<title>11&#45;&gt;12</title>\n<path fill=\"none\" stroke=\"black\" d=\"M608,-103.73C608,-95.52 608,-86.86 608,-78.56\"/>\n<polygon fill=\"black\" stroke=\"black\" points=\"611.5,-78.3 608,-68.3 604.5,-78.3 611.5,-78.3\"/>\n</g>\n<!-- 13 -->\n<g id=\"node14\" class=\"node\">\n<title>13</title>\n<path fill=\"#8139e5\" stroke=\"black\" d=\"M790.5,-68C790.5,-68 699.5,-68 699.5,-68 693.5,-68 687.5,-62 687.5,-56 687.5,-56 687.5,-12 687.5,-12 687.5,-6 693.5,0 699.5,0 699.5,0 790.5,0 790.5,0 796.5,0 802.5,-6 802.5,-12 802.5,-12 802.5,-56 802.5,-56 802.5,-62 796.5,-68 790.5,-68\"/>\n<text text-anchor=\"start\" x=\"717\" y=\"-52.8\" font-family=\"Helvetica,sans-Serif\" font-size=\"14.00\">gini = 0.0</text>\n<text text-anchor=\"start\" x=\"707.5\" y=\"-37.8\" font-family=\"Helvetica,sans-Serif\" font-size=\"14.00\">samples = 2</text>\n<text text-anchor=\"start\" x=\"698\" y=\"-22.8\" font-family=\"Helvetica,sans-Serif\" font-size=\"14.00\">value = [0, 0, 2]</text>\n<text text-anchor=\"start\" x=\"695.5\" y=\"-7.8\" font-family=\"Helvetica,sans-Serif\" font-size=\"14.00\">class = Virginica</text>\n</g>\n<!-- 11&#45;&gt;13 -->\n<g id=\"edge13\" class=\"edge\">\n<title>11&#45;&gt;13</title>\n<path fill=\"none\" stroke=\"black\" d=\"M659.01,-103.73C670.88,-94.24 683.5,-84.16 695.31,-74.72\"/>\n<polygon fill=\"black\" stroke=\"black\" points=\"697.71,-77.28 703.34,-68.3 693.34,-71.81 697.71,-77.28\"/>\n</g>\n</g>\n</svg>\n",
            "text/plain": [
              "<graphviz.sources.Source at 0x7b7d956b2f50>"
            ]
          },
          "metadata": {},
          "execution_count": 38
        }
      ]
    },
    {
      "cell_type": "markdown",
      "source": [
        "Using Information Gain as Criterion\n",
        "---"
      ],
      "metadata": {
        "id": "SPW1rl8WWcNW"
      }
    },
    {
      "cell_type": "code",
      "source": [
        "# create model\n",
        "clf2 = tree.DecisionTreeClassifier(criterion = \"entropy\")\n",
        "\n",
        "#train model\n",
        "clf2 = clf.fit(X_train, y_train)\n",
        "\n",
        "# predict\n",
        "y_pred2 = clf2.predict(X_test)"
      ],
      "metadata": {
        "id": "VtS4eD2xWhg7"
      },
      "execution_count": 42,
      "outputs": []
    },
    {
      "cell_type": "code",
      "source": [
        "print(\"Accuracy:\", metrics.accuracy_score(y_test,y_pred2))"
      ],
      "metadata": {
        "colab": {
          "base_uri": "https://localhost:8080/"
        },
        "id": "FzVdykumWulX",
        "outputId": "5f4ec2d7-cc8e-47bf-c142-b54527f8f6a7"
      },
      "execution_count": 43,
      "outputs": [
        {
          "output_type": "stream",
          "name": "stdout",
          "text": [
            "Accuracy: 0.9777777777777777\n"
          ]
        }
      ]
    },
    {
      "cell_type": "code",
      "source": [
        "dot_data = tree.export_graphviz(clf2, out_file = None, feature_names = X_train.columns, class_names = [\"Setosa\", \"Versicolor\",\"Virginica\"], filled = True, rounded = True, special_characters = True)\n",
        "graph = graphviz.Source(dot_data)\n",
        "graph"
      ],
      "metadata": {
        "colab": {
          "base_uri": "https://localhost:8080/",
          "height": 777
        },
        "id": "mALsxI2gWzsw",
        "outputId": "91b3c77e-7ab9-4456-e5d7-98ed45df0323"
      },
      "execution_count": 44,
      "outputs": [
        {
          "output_type": "execute_result",
          "data": {
            "image/svg+xml": "<?xml version=\"1.0\" encoding=\"UTF-8\" standalone=\"no\"?>\n<!DOCTYPE svg PUBLIC \"-//W3C//DTD SVG 1.1//EN\"\n \"http://www.w3.org/Graphics/SVG/1.1/DTD/svg11.dtd\">\n<!-- Generated by graphviz version 2.43.0 (0)\n -->\n<!-- Title: Tree Pages: 1 -->\n<svg width=\"823pt\" height=\"552pt\"\n viewBox=\"0.00 0.00 822.50 552.00\" xmlns=\"http://www.w3.org/2000/svg\" xmlns:xlink=\"http://www.w3.org/1999/xlink\">\n<g id=\"graph0\" class=\"graph\" transform=\"scale(1 1) rotate(0) translate(4 548)\">\n<title>Tree</title>\n<polygon fill=\"white\" stroke=\"transparent\" points=\"-4,4 -4,-548 818.5,-548 818.5,4 -4,4\"/>\n<!-- 0 -->\n<g id=\"node1\" class=\"node\">\n<title>0</title>\n<path fill=\"#f4fdf8\" stroke=\"black\" d=\"M486,-544C486,-544 364,-544 364,-544 358,-544 352,-538 352,-532 352,-532 352,-473 352,-473 352,-467 358,-461 364,-461 364,-461 486,-461 486,-461 492,-461 498,-467 498,-473 498,-473 498,-532 498,-532 498,-538 492,-544 486,-544\"/>\n<text text-anchor=\"start\" x=\"360\" y=\"-528.8\" font-family=\"Helvetica,sans-Serif\" font-size=\"14.00\">petal width (cm) ≤ 0.8</text>\n<text text-anchor=\"start\" x=\"377.5\" y=\"-513.8\" font-family=\"Helvetica,sans-Serif\" font-size=\"14.00\">entropy = 1.573</text>\n<text text-anchor=\"start\" x=\"380\" y=\"-498.8\" font-family=\"Helvetica,sans-Serif\" font-size=\"14.00\">samples = 105</text>\n<text text-anchor=\"start\" x=\"367\" y=\"-483.8\" font-family=\"Helvetica,sans-Serif\" font-size=\"14.00\">value = [29, 40, 36]</text>\n<text text-anchor=\"start\" x=\"372\" y=\"-468.8\" font-family=\"Helvetica,sans-Serif\" font-size=\"14.00\">class = Versicolor</text>\n</g>\n<!-- 1 -->\n<g id=\"node2\" class=\"node\">\n<title>1</title>\n<path fill=\"#e58139\" stroke=\"black\" d=\"M394.5,-417.5C394.5,-417.5 301.5,-417.5 301.5,-417.5 295.5,-417.5 289.5,-411.5 289.5,-405.5 289.5,-405.5 289.5,-361.5 289.5,-361.5 289.5,-355.5 295.5,-349.5 301.5,-349.5 301.5,-349.5 394.5,-349.5 394.5,-349.5 400.5,-349.5 406.5,-355.5 406.5,-361.5 406.5,-361.5 406.5,-405.5 406.5,-405.5 406.5,-411.5 400.5,-417.5 394.5,-417.5\"/>\n<text text-anchor=\"start\" x=\"308\" y=\"-402.3\" font-family=\"Helvetica,sans-Serif\" font-size=\"14.00\">entropy = 0.0</text>\n<text text-anchor=\"start\" x=\"307\" y=\"-387.3\" font-family=\"Helvetica,sans-Serif\" font-size=\"14.00\">samples = 29</text>\n<text text-anchor=\"start\" x=\"297.5\" y=\"-372.3\" font-family=\"Helvetica,sans-Serif\" font-size=\"14.00\">value = [29, 0, 0]</text>\n<text text-anchor=\"start\" x=\"303.5\" y=\"-357.3\" font-family=\"Helvetica,sans-Serif\" font-size=\"14.00\">class = Setosa</text>\n</g>\n<!-- 0&#45;&gt;1 -->\n<g id=\"edge1\" class=\"edge\">\n<title>0&#45;&gt;1</title>\n<path fill=\"none\" stroke=\"black\" d=\"M398.29,-460.91C390.88,-449.65 382.83,-437.42 375.38,-426.11\"/>\n<polygon fill=\"black\" stroke=\"black\" points=\"378.25,-424.1 369.83,-417.67 372.4,-427.94 378.25,-424.1\"/>\n<text text-anchor=\"middle\" x=\"364.78\" y=\"-438.45\" font-family=\"Helvetica,sans-Serif\" font-size=\"14.00\">True</text>\n</g>\n<!-- 2 -->\n<g id=\"node3\" class=\"node\">\n<title>2</title>\n<path fill=\"#ebfcf2\" stroke=\"black\" d=\"M567,-425C567,-425 437,-425 437,-425 431,-425 425,-419 425,-413 425,-413 425,-354 425,-354 425,-348 431,-342 437,-342 437,-342 567,-342 567,-342 573,-342 579,-348 579,-354 579,-354 579,-413 579,-413 579,-419 573,-425 567,-425\"/>\n<text text-anchor=\"start\" x=\"433\" y=\"-409.8\" font-family=\"Helvetica,sans-Serif\" font-size=\"14.00\">petal width (cm) ≤ 1.75</text>\n<text text-anchor=\"start\" x=\"454.5\" y=\"-394.8\" font-family=\"Helvetica,sans-Serif\" font-size=\"14.00\">entropy = 0.998</text>\n<text text-anchor=\"start\" x=\"461\" y=\"-379.8\" font-family=\"Helvetica,sans-Serif\" font-size=\"14.00\">samples = 76</text>\n<text text-anchor=\"start\" x=\"447.5\" y=\"-364.8\" font-family=\"Helvetica,sans-Serif\" font-size=\"14.00\">value = [0, 40, 36]</text>\n<text text-anchor=\"start\" x=\"449\" y=\"-349.8\" font-family=\"Helvetica,sans-Serif\" font-size=\"14.00\">class = Versicolor</text>\n</g>\n<!-- 0&#45;&gt;2 -->\n<g id=\"edge2\" class=\"edge\">\n<title>0&#45;&gt;2</title>\n<path fill=\"none\" stroke=\"black\" d=\"M451.71,-460.91C457.51,-452.1 463.7,-442.7 469.68,-433.61\"/>\n<polygon fill=\"black\" stroke=\"black\" points=\"472.76,-435.3 475.33,-425.02 466.91,-431.45 472.76,-435.3\"/>\n<text text-anchor=\"middle\" x=\"480.38\" y=\"-445.81\" font-family=\"Helvetica,sans-Serif\" font-size=\"14.00\">False</text>\n</g>\n<!-- 3 -->\n<g id=\"node4\" class=\"node\">\n<title>3</title>\n<path fill=\"#4de88e\" stroke=\"black\" d=\"M466.5,-306C466.5,-306 331.5,-306 331.5,-306 325.5,-306 319.5,-300 319.5,-294 319.5,-294 319.5,-235 319.5,-235 319.5,-229 325.5,-223 331.5,-223 331.5,-223 466.5,-223 466.5,-223 472.5,-223 478.5,-229 478.5,-235 478.5,-235 478.5,-294 478.5,-294 478.5,-300 472.5,-306 466.5,-306\"/>\n<text text-anchor=\"start\" x=\"327.5\" y=\"-290.8\" font-family=\"Helvetica,sans-Serif\" font-size=\"14.00\">petal length (cm) ≤ 4.95</text>\n<text text-anchor=\"start\" x=\"351.5\" y=\"-275.8\" font-family=\"Helvetica,sans-Serif\" font-size=\"14.00\">entropy = 0.446</text>\n<text text-anchor=\"start\" x=\"358\" y=\"-260.8\" font-family=\"Helvetica,sans-Serif\" font-size=\"14.00\">samples = 43</text>\n<text text-anchor=\"start\" x=\"348.5\" y=\"-245.8\" font-family=\"Helvetica,sans-Serif\" font-size=\"14.00\">value = [0, 39, 4]</text>\n<text text-anchor=\"start\" x=\"346\" y=\"-230.8\" font-family=\"Helvetica,sans-Serif\" font-size=\"14.00\">class = Versicolor</text>\n</g>\n<!-- 2&#45;&gt;3 -->\n<g id=\"edge3\" class=\"edge\">\n<title>2&#45;&gt;3</title>\n<path fill=\"none\" stroke=\"black\" d=\"M466.26,-341.91C458.28,-332.83 449.73,-323.12 441.49,-313.77\"/>\n<polygon fill=\"black\" stroke=\"black\" points=\"443.91,-311.21 434.67,-306.02 438.65,-315.84 443.91,-311.21\"/>\n</g>\n<!-- 10 -->\n<g id=\"node11\" class=\"node\">\n<title>10</title>\n<path fill=\"#853fe6\" stroke=\"black\" d=\"M672.5,-306C672.5,-306 537.5,-306 537.5,-306 531.5,-306 525.5,-300 525.5,-294 525.5,-294 525.5,-235 525.5,-235 525.5,-229 531.5,-223 537.5,-223 537.5,-223 672.5,-223 672.5,-223 678.5,-223 684.5,-229 684.5,-235 684.5,-235 684.5,-294 684.5,-294 684.5,-300 678.5,-306 672.5,-306\"/>\n<text text-anchor=\"start\" x=\"533.5\" y=\"-290.8\" font-family=\"Helvetica,sans-Serif\" font-size=\"14.00\">petal length (cm) ≤ 4.85</text>\n<text text-anchor=\"start\" x=\"557.5\" y=\"-275.8\" font-family=\"Helvetica,sans-Serif\" font-size=\"14.00\">entropy = 0.196</text>\n<text text-anchor=\"start\" x=\"564\" y=\"-260.8\" font-family=\"Helvetica,sans-Serif\" font-size=\"14.00\">samples = 33</text>\n<text text-anchor=\"start\" x=\"554.5\" y=\"-245.8\" font-family=\"Helvetica,sans-Serif\" font-size=\"14.00\">value = [0, 1, 32]</text>\n<text text-anchor=\"start\" x=\"555.5\" y=\"-230.8\" font-family=\"Helvetica,sans-Serif\" font-size=\"14.00\">class = Virginica</text>\n</g>\n<!-- 2&#45;&gt;10 -->\n<g id=\"edge10\" class=\"edge\">\n<title>2&#45;&gt;10</title>\n<path fill=\"none\" stroke=\"black\" d=\"M537.74,-341.91C545.72,-332.83 554.27,-323.12 562.51,-313.77\"/>\n<polygon fill=\"black\" stroke=\"black\" points=\"565.35,-315.84 569.33,-306.02 560.09,-311.21 565.35,-315.84\"/>\n</g>\n<!-- 4 -->\n<g id=\"node5\" class=\"node\">\n<title>4</title>\n<path fill=\"#3ee684\" stroke=\"black\" d=\"M263,-187C263,-187 133,-187 133,-187 127,-187 121,-181 121,-175 121,-175 121,-116 121,-116 121,-110 127,-104 133,-104 133,-104 263,-104 263,-104 269,-104 275,-110 275,-116 275,-116 275,-175 275,-175 275,-181 269,-187 263,-187\"/>\n<text text-anchor=\"start\" x=\"129\" y=\"-171.8\" font-family=\"Helvetica,sans-Serif\" font-size=\"14.00\">petal width (cm) ≤ 1.65</text>\n<text text-anchor=\"start\" x=\"150.5\" y=\"-156.8\" font-family=\"Helvetica,sans-Serif\" font-size=\"14.00\">entropy = 0.172</text>\n<text text-anchor=\"start\" x=\"157\" y=\"-141.8\" font-family=\"Helvetica,sans-Serif\" font-size=\"14.00\">samples = 39</text>\n<text text-anchor=\"start\" x=\"147.5\" y=\"-126.8\" font-family=\"Helvetica,sans-Serif\" font-size=\"14.00\">value = [0, 38, 1]</text>\n<text text-anchor=\"start\" x=\"145\" y=\"-111.8\" font-family=\"Helvetica,sans-Serif\" font-size=\"14.00\">class = Versicolor</text>\n</g>\n<!-- 3&#45;&gt;4 -->\n<g id=\"edge4\" class=\"edge\">\n<title>3&#45;&gt;4</title>\n<path fill=\"none\" stroke=\"black\" d=\"M329.26,-222.91C312.27,-213.02 293.98,-202.37 276.6,-192.25\"/>\n<polygon fill=\"black\" stroke=\"black\" points=\"278.02,-189.03 267.61,-187.02 274.49,-195.08 278.02,-189.03\"/>\n</g>\n<!-- 7 -->\n<g id=\"node8\" class=\"node\">\n<title>7</title>\n<path fill=\"#ab7bee\" stroke=\"black\" d=\"M464,-187C464,-187 334,-187 334,-187 328,-187 322,-181 322,-175 322,-175 322,-116 322,-116 322,-110 328,-104 334,-104 334,-104 464,-104 464,-104 470,-104 476,-110 476,-116 476,-116 476,-175 476,-175 476,-181 470,-187 464,-187\"/>\n<text text-anchor=\"start\" x=\"330\" y=\"-171.8\" font-family=\"Helvetica,sans-Serif\" font-size=\"14.00\">petal width (cm) ≤ 1.65</text>\n<text text-anchor=\"start\" x=\"351.5\" y=\"-156.8\" font-family=\"Helvetica,sans-Serif\" font-size=\"14.00\">entropy = 0.811</text>\n<text text-anchor=\"start\" x=\"361.5\" y=\"-141.8\" font-family=\"Helvetica,sans-Serif\" font-size=\"14.00\">samples = 4</text>\n<text text-anchor=\"start\" x=\"352\" y=\"-126.8\" font-family=\"Helvetica,sans-Serif\" font-size=\"14.00\">value = [0, 1, 3]</text>\n<text text-anchor=\"start\" x=\"349.5\" y=\"-111.8\" font-family=\"Helvetica,sans-Serif\" font-size=\"14.00\">class = Virginica</text>\n</g>\n<!-- 3&#45;&gt;7 -->\n<g id=\"edge7\" class=\"edge\">\n<title>3&#45;&gt;7</title>\n<path fill=\"none\" stroke=\"black\" d=\"M399,-222.91C399,-214.65 399,-205.86 399,-197.3\"/>\n<polygon fill=\"black\" stroke=\"black\" points=\"402.5,-197.02 399,-187.02 395.5,-197.02 402.5,-197.02\"/>\n</g>\n<!-- 5 -->\n<g id=\"node6\" class=\"node\">\n<title>5</title>\n<path fill=\"#39e581\" stroke=\"black\" d=\"M110,-68C110,-68 12,-68 12,-68 6,-68 0,-62 0,-56 0,-56 0,-12 0,-12 0,-6 6,0 12,0 12,0 110,0 110,0 116,0 122,-6 122,-12 122,-12 122,-56 122,-56 122,-62 116,-68 110,-68\"/>\n<text text-anchor=\"start\" x=\"21\" y=\"-52.8\" font-family=\"Helvetica,sans-Serif\" font-size=\"14.00\">entropy = 0.0</text>\n<text text-anchor=\"start\" x=\"20\" y=\"-37.8\" font-family=\"Helvetica,sans-Serif\" font-size=\"14.00\">samples = 38</text>\n<text text-anchor=\"start\" x=\"10.5\" y=\"-22.8\" font-family=\"Helvetica,sans-Serif\" font-size=\"14.00\">value = [0, 38, 0]</text>\n<text text-anchor=\"start\" x=\"8\" y=\"-7.8\" font-family=\"Helvetica,sans-Serif\" font-size=\"14.00\">class = Versicolor</text>\n</g>\n<!-- 4&#45;&gt;5 -->\n<g id=\"edge5\" class=\"edge\">\n<title>4&#45;&gt;5</title>\n<path fill=\"none\" stroke=\"black\" d=\"M146.99,-103.73C135.12,-94.24 122.5,-84.16 110.69,-74.72\"/>\n<polygon fill=\"black\" stroke=\"black\" points=\"112.66,-71.81 102.66,-68.3 108.29,-77.28 112.66,-71.81\"/>\n</g>\n<!-- 6 -->\n<g id=\"node7\" class=\"node\">\n<title>6</title>\n<path fill=\"#8139e5\" stroke=\"black\" d=\"M243.5,-68C243.5,-68 152.5,-68 152.5,-68 146.5,-68 140.5,-62 140.5,-56 140.5,-56 140.5,-12 140.5,-12 140.5,-6 146.5,0 152.5,0 152.5,0 243.5,0 243.5,0 249.5,0 255.5,-6 255.5,-12 255.5,-12 255.5,-56 255.5,-56 255.5,-62 249.5,-68 243.5,-68\"/>\n<text text-anchor=\"start\" x=\"158\" y=\"-52.8\" font-family=\"Helvetica,sans-Serif\" font-size=\"14.00\">entropy = 0.0</text>\n<text text-anchor=\"start\" x=\"160.5\" y=\"-37.8\" font-family=\"Helvetica,sans-Serif\" font-size=\"14.00\">samples = 1</text>\n<text text-anchor=\"start\" x=\"151\" y=\"-22.8\" font-family=\"Helvetica,sans-Serif\" font-size=\"14.00\">value = [0, 0, 1]</text>\n<text text-anchor=\"start\" x=\"148.5\" y=\"-7.8\" font-family=\"Helvetica,sans-Serif\" font-size=\"14.00\">class = Virginica</text>\n</g>\n<!-- 4&#45;&gt;6 -->\n<g id=\"edge6\" class=\"edge\">\n<title>4&#45;&gt;6</title>\n<path fill=\"none\" stroke=\"black\" d=\"M198,-103.73C198,-95.52 198,-86.86 198,-78.56\"/>\n<polygon fill=\"black\" stroke=\"black\" points=\"201.5,-78.3 198,-68.3 194.5,-78.3 201.5,-78.3\"/>\n</g>\n<!-- 8 -->\n<g id=\"node9\" class=\"node\">\n<title>8</title>\n<path fill=\"#8139e5\" stroke=\"black\" d=\"M376.5,-68C376.5,-68 285.5,-68 285.5,-68 279.5,-68 273.5,-62 273.5,-56 273.5,-56 273.5,-12 273.5,-12 273.5,-6 279.5,0 285.5,0 285.5,0 376.5,0 376.5,0 382.5,0 388.5,-6 388.5,-12 388.5,-12 388.5,-56 388.5,-56 388.5,-62 382.5,-68 376.5,-68\"/>\n<text text-anchor=\"start\" x=\"291\" y=\"-52.8\" font-family=\"Helvetica,sans-Serif\" font-size=\"14.00\">entropy = 0.0</text>\n<text text-anchor=\"start\" x=\"293.5\" y=\"-37.8\" font-family=\"Helvetica,sans-Serif\" font-size=\"14.00\">samples = 3</text>\n<text text-anchor=\"start\" x=\"284\" y=\"-22.8\" font-family=\"Helvetica,sans-Serif\" font-size=\"14.00\">value = [0, 0, 3]</text>\n<text text-anchor=\"start\" x=\"281.5\" y=\"-7.8\" font-family=\"Helvetica,sans-Serif\" font-size=\"14.00\">class = Virginica</text>\n</g>\n<!-- 7&#45;&gt;8 -->\n<g id=\"edge8\" class=\"edge\">\n<title>7&#45;&gt;8</title>\n<path fill=\"none\" stroke=\"black\" d=\"M373.68,-103.73C368.24,-94.97 362.49,-85.7 357.02,-76.91\"/>\n<polygon fill=\"black\" stroke=\"black\" points=\"359.93,-74.95 351.68,-68.3 353.98,-78.64 359.93,-74.95\"/>\n</g>\n<!-- 9 -->\n<g id=\"node10\" class=\"node\">\n<title>9</title>\n<path fill=\"#39e581\" stroke=\"black\" d=\"M517,-68C517,-68 419,-68 419,-68 413,-68 407,-62 407,-56 407,-56 407,-12 407,-12 407,-6 413,0 419,0 419,0 517,0 517,0 523,0 529,-6 529,-12 529,-12 529,-56 529,-56 529,-62 523,-68 517,-68\"/>\n<text text-anchor=\"start\" x=\"428\" y=\"-52.8\" font-family=\"Helvetica,sans-Serif\" font-size=\"14.00\">entropy = 0.0</text>\n<text text-anchor=\"start\" x=\"430.5\" y=\"-37.8\" font-family=\"Helvetica,sans-Serif\" font-size=\"14.00\">samples = 1</text>\n<text text-anchor=\"start\" x=\"421\" y=\"-22.8\" font-family=\"Helvetica,sans-Serif\" font-size=\"14.00\">value = [0, 1, 0]</text>\n<text text-anchor=\"start\" x=\"415\" y=\"-7.8\" font-family=\"Helvetica,sans-Serif\" font-size=\"14.00\">class = Versicolor</text>\n</g>\n<!-- 7&#45;&gt;9 -->\n<g id=\"edge9\" class=\"edge\">\n<title>7&#45;&gt;9</title>\n<path fill=\"none\" stroke=\"black\" d=\"M424.69,-103.73C430.21,-94.97 436.05,-85.7 441.59,-76.91\"/>\n<polygon fill=\"black\" stroke=\"black\" points=\"444.65,-78.63 447.02,-68.3 438.72,-74.89 444.65,-78.63\"/>\n</g>\n<!-- 11 -->\n<g id=\"node12\" class=\"node\">\n<title>11</title>\n<path fill=\"#c09cf2\" stroke=\"black\" d=\"M667.5,-187C667.5,-187 542.5,-187 542.5,-187 536.5,-187 530.5,-181 530.5,-175 530.5,-175 530.5,-116 530.5,-116 530.5,-110 536.5,-104 542.5,-104 542.5,-104 667.5,-104 667.5,-104 673.5,-104 679.5,-110 679.5,-116 679.5,-116 679.5,-175 679.5,-175 679.5,-181 673.5,-187 667.5,-187\"/>\n<text text-anchor=\"start\" x=\"538.5\" y=\"-171.8\" font-family=\"Helvetica,sans-Serif\" font-size=\"14.00\">sepal width (cm) ≤ 3.1</text>\n<text text-anchor=\"start\" x=\"557.5\" y=\"-156.8\" font-family=\"Helvetica,sans-Serif\" font-size=\"14.00\">entropy = 0.918</text>\n<text text-anchor=\"start\" x=\"567.5\" y=\"-141.8\" font-family=\"Helvetica,sans-Serif\" font-size=\"14.00\">samples = 3</text>\n<text text-anchor=\"start\" x=\"558\" y=\"-126.8\" font-family=\"Helvetica,sans-Serif\" font-size=\"14.00\">value = [0, 1, 2]</text>\n<text text-anchor=\"start\" x=\"555.5\" y=\"-111.8\" font-family=\"Helvetica,sans-Serif\" font-size=\"14.00\">class = Virginica</text>\n</g>\n<!-- 10&#45;&gt;11 -->\n<g id=\"edge11\" class=\"edge\">\n<title>10&#45;&gt;11</title>\n<path fill=\"none\" stroke=\"black\" d=\"M605,-222.91C605,-214.65 605,-205.86 605,-197.3\"/>\n<polygon fill=\"black\" stroke=\"black\" points=\"608.5,-197.02 605,-187.02 601.5,-197.02 608.5,-197.02\"/>\n</g>\n<!-- 14 -->\n<g id=\"node15\" class=\"node\">\n<title>14</title>\n<path fill=\"#8139e5\" stroke=\"black\" d=\"M802.5,-179.5C802.5,-179.5 709.5,-179.5 709.5,-179.5 703.5,-179.5 697.5,-173.5 697.5,-167.5 697.5,-167.5 697.5,-123.5 697.5,-123.5 697.5,-117.5 703.5,-111.5 709.5,-111.5 709.5,-111.5 802.5,-111.5 802.5,-111.5 808.5,-111.5 814.5,-117.5 814.5,-123.5 814.5,-123.5 814.5,-167.5 814.5,-167.5 814.5,-173.5 808.5,-179.5 802.5,-179.5\"/>\n<text text-anchor=\"start\" x=\"716\" y=\"-164.3\" font-family=\"Helvetica,sans-Serif\" font-size=\"14.00\">entropy = 0.0</text>\n<text text-anchor=\"start\" x=\"715\" y=\"-149.3\" font-family=\"Helvetica,sans-Serif\" font-size=\"14.00\">samples = 30</text>\n<text text-anchor=\"start\" x=\"705.5\" y=\"-134.3\" font-family=\"Helvetica,sans-Serif\" font-size=\"14.00\">value = [0, 0, 30]</text>\n<text text-anchor=\"start\" x=\"706.5\" y=\"-119.3\" font-family=\"Helvetica,sans-Serif\" font-size=\"14.00\">class = Virginica</text>\n</g>\n<!-- 10&#45;&gt;14 -->\n<g id=\"edge14\" class=\"edge\">\n<title>10&#45;&gt;14</title>\n<path fill=\"none\" stroke=\"black\" d=\"M657.39,-222.91C672.77,-210.99 689.57,-197.98 704.87,-186.12\"/>\n<polygon fill=\"black\" stroke=\"black\" points=\"707.43,-188.56 713.19,-179.67 703.15,-183.03 707.43,-188.56\"/>\n</g>\n<!-- 12 -->\n<g id=\"node13\" class=\"node\">\n<title>12</title>\n<path fill=\"#8139e5\" stroke=\"black\" d=\"M650.5,-68C650.5,-68 559.5,-68 559.5,-68 553.5,-68 547.5,-62 547.5,-56 547.5,-56 547.5,-12 547.5,-12 547.5,-6 553.5,0 559.5,0 559.5,0 650.5,0 650.5,0 656.5,0 662.5,-6 662.5,-12 662.5,-12 662.5,-56 662.5,-56 662.5,-62 656.5,-68 650.5,-68\"/>\n<text text-anchor=\"start\" x=\"565\" y=\"-52.8\" font-family=\"Helvetica,sans-Serif\" font-size=\"14.00\">entropy = 0.0</text>\n<text text-anchor=\"start\" x=\"567.5\" y=\"-37.8\" font-family=\"Helvetica,sans-Serif\" font-size=\"14.00\">samples = 2</text>\n<text text-anchor=\"start\" x=\"558\" y=\"-22.8\" font-family=\"Helvetica,sans-Serif\" font-size=\"14.00\">value = [0, 0, 2]</text>\n<text text-anchor=\"start\" x=\"555.5\" y=\"-7.8\" font-family=\"Helvetica,sans-Serif\" font-size=\"14.00\">class = Virginica</text>\n</g>\n<!-- 11&#45;&gt;12 -->\n<g id=\"edge12\" class=\"edge\">\n<title>11&#45;&gt;12</title>\n<path fill=\"none\" stroke=\"black\" d=\"M605,-103.73C605,-95.52 605,-86.86 605,-78.56\"/>\n<polygon fill=\"black\" stroke=\"black\" points=\"608.5,-78.3 605,-68.3 601.5,-78.3 608.5,-78.3\"/>\n</g>\n<!-- 13 -->\n<g id=\"node14\" class=\"node\">\n<title>13</title>\n<path fill=\"#39e581\" stroke=\"black\" d=\"M791,-68C791,-68 693,-68 693,-68 687,-68 681,-62 681,-56 681,-56 681,-12 681,-12 681,-6 687,0 693,0 693,0 791,0 791,0 797,0 803,-6 803,-12 803,-12 803,-56 803,-56 803,-62 797,-68 791,-68\"/>\n<text text-anchor=\"start\" x=\"702\" y=\"-52.8\" font-family=\"Helvetica,sans-Serif\" font-size=\"14.00\">entropy = 0.0</text>\n<text text-anchor=\"start\" x=\"704.5\" y=\"-37.8\" font-family=\"Helvetica,sans-Serif\" font-size=\"14.00\">samples = 1</text>\n<text text-anchor=\"start\" x=\"695\" y=\"-22.8\" font-family=\"Helvetica,sans-Serif\" font-size=\"14.00\">value = [0, 1, 0]</text>\n<text text-anchor=\"start\" x=\"689\" y=\"-7.8\" font-family=\"Helvetica,sans-Serif\" font-size=\"14.00\">class = Versicolor</text>\n</g>\n<!-- 11&#45;&gt;13 -->\n<g id=\"edge13\" class=\"edge\">\n<title>11&#45;&gt;13</title>\n<path fill=\"none\" stroke=\"black\" d=\"M656.01,-103.73C667.88,-94.24 680.5,-84.16 692.31,-74.72\"/>\n<polygon fill=\"black\" stroke=\"black\" points=\"694.71,-77.28 700.34,-68.3 690.34,-71.81 694.71,-77.28\"/>\n</g>\n</g>\n</svg>\n",
            "text/plain": [
              "<graphviz.sources.Source at 0x7b7d9569b340>"
            ]
          },
          "metadata": {},
          "execution_count": 44
        }
      ]
    },
    {
      "cell_type": "code",
      "source": [
        "cm = metrics.confusion_matrix(y_test, y_pred)\n",
        "print(f\"confusion matrix:\\n {cm}\")"
      ],
      "metadata": {
        "colab": {
          "base_uri": "https://localhost:8080/"
        },
        "id": "K1SNc5gYZ7so",
        "outputId": "12595b97-aa72-49df-bf0a-bc02b7711156"
      },
      "execution_count": 46,
      "outputs": [
        {
          "output_type": "stream",
          "name": "stdout",
          "text": [
            "confusion matrix:\n",
            " [[21  0  0]\n",
            " [ 0  9  1]\n",
            " [ 0  0 14]]\n"
          ]
        }
      ]
    },
    {
      "cell_type": "markdown",
      "source": [
        "We already have a high accuracy rate, but if we did not we could use the following methods to **optimize decision tree performance**\n",
        "\n",
        "1. change the criterion (like we did above)\n",
        "2. change the splitter. default is \"best\", there is also \"random\" to choose the best random split. We would choose random when we have a big dataset /want to reduce overfitting / building ensemble models.\n",
        "3. max_depth"
      ],
      "metadata": {
        "id": "_6pmU2FVYYqc"
      }
    }
  ]
}